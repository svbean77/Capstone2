{
 "cells": [
  {
   "cell_type": "markdown",
   "metadata": {},
   "source": [
    "## 필요 라이브러리 설치"
   ]
  },
  {
   "cell_type": "markdown",
   "metadata": {},
   "source": [
    "!pip install BeautifulSoup4"
   ]
  },
  {
   "cell_type": "markdown",
   "metadata": {},
   "source": [
    "!pip install pandas"
   ]
  },
  {
   "cell_type": "markdown",
   "metadata": {},
   "source": [
    "!pip install numpy"
   ]
  },
  {
   "cell_type": "markdown",
   "metadata": {},
   "source": [
    "## 기본 html 파싱"
   ]
  },
  {
   "cell_type": "code",
   "execution_count": 1,
   "metadata": {},
   "outputs": [],
   "source": [
    "import requests\n",
    "from bs4 import BeautifulSoup\n",
    "import numpy as np\n",
    "import pandas as pd"
   ]
  },
  {
   "cell_type": "code",
   "execution_count": 2,
   "metadata": {},
   "outputs": [],
   "source": [
    "res = requests.get('https://musclewiki.com/Directory')\n",
    "soup = BeautifulSoup(res.content, 'html.parser')\n",
    "\n",
    "lst = soup.find_all('tr')"
   ]
  },
  {
   "cell_type": "markdown",
   "metadata": {},
   "source": [
    "## 필요 데이터 추출"
   ]
  },
  {
   "cell_type": "code",
   "execution_count": 56,
   "metadata": {},
   "outputs": [],
   "source": [
    "muscle = []\n",
    "exercise = []\n",
    "equipment = []\n",
    "difficulty = []\n",
    "link = []\n",
    "\n",
    "for item in lst:\n",
    "    txt = [tmp for tmp in item.get_text().split('\\n') if tmp]\n",
    "    if 'Exercises' in item.get_text():\n",
    "        muscle.append(txt[0].strip()[:-10])\n",
    "        exercise.append([])\n",
    "        equipment.append([])\n",
    "        difficulty.append([])\n",
    "        link.append([])\n",
    "        \n",
    "    else:\n",
    "        exercise[-1].append(txt[0])\n",
    "        equipment[-1].append(txt[-2])\n",
    "        difficulty[-1].append(txt[-1])\n",
    "        tmp = 'https://musclewiki.com' + item.find('a')['href']\n",
    "        link[-1].append(tmp)"
   ]
  },
  {
   "cell_type": "markdown",
   "metadata": {},
   "source": [
    "## 데이터프레임 생성"
   ]
  },
  {
   "cell_type": "code",
   "execution_count": 77,
   "metadata": {},
   "outputs": [],
   "source": [
    "df_lst = []\n",
    "\n",
    "for i in range(len(muscle)):\n",
    "    tmp_df = pd.DataFrame([exercise[i], equipment[i], difficulty[i], link[i]], \n",
    "                          index = ['exercise', 'equipment', 'difficulty', 'link']).transpose()\n",
    "    df_lst.append(tmp_df)"
   ]
  },
  {
   "cell_type": "markdown",
   "metadata": {},
   "source": [
    "## https://www.musclewiki.com + 이미지주소 하면 움짤 주소임!"
   ]
  },
  {
   "cell_type": "markdown",
   "metadata": {},
   "source": [
    "df = df_lst[0]\n",
    "a = df.loc[0, 'link']\n",
    "b = requests.get(a)\n",
    "s = BeautifulSoup(b.content, 'html.parser')\n",
    "s.find(class_ = 'exercise-images-grid').find('img')['src']"
   ]
  },
  {
   "cell_type": "markdown",
   "metadata": {},
   "source": [
    "a = df_lst[4]\n",
    "r = requests.get(a.loc[0, 'link'])\n",
    "s = BeautifulSoup(r.content, 'html.parser')\n",
    "s.get_text()"
   ]
  },
  {
   "cell_type": "markdown",
   "metadata": {},
   "source": [
    "for df in df_lst:\n",
    "    for i in range(len(df)):\n",
    "        tmp_link = df.loc[i, 'link']\n",
    "        tmp_res = requests.get(tmp_link)\n",
    "        tmp_soup = BeautifulSoup(tmp_res.content, 'html.parser')\n",
    "        \n",
    "        \n",
    "        if '404' in tmp_soup.get_text():\n",
    "            df.loc[i, 'img_link'] = '이미지 주소 오류'\n",
    "        else:\n",
    "\n",
    "            images = tmp_soup.find(class_ = 'exercise-images-grid').find_all('img')\n",
    "            print(i, len(images))\n",
    "    print()"
   ]
  },
  {
   "cell_type": "code",
   "execution_count": 78,
   "metadata": {},
   "outputs": [],
   "source": [
    "for df in df_lst:\n",
    "    for i in range(len(df)):\n",
    "        link = df.loc[i, 'link']\n",
    "        tmp_res = requests.get(link)\n",
    "        tmp_soup = BeautifulSoup(tmp_res.content, 'html.parser')\n",
    "        \n",
    "        if '404' in tmp_soup.get_text():\n",
    "            df.loc[i, 'img_link'] = '이미지 주소 오류'\n",
    "        else:\n",
    "            img_link = tmp_soup.find(class_ = 'exercise-images-grid').find('img')\n",
    "            df.loc[i, 'img_link'] = 'https://www.musclewiki.com' + img_link['src']"
   ]
  },
  {
   "cell_type": "code",
   "execution_count": 93,
   "metadata": {},
   "outputs": [
    {
     "data": {
      "text/html": [
       "<div>\n",
       "<style scoped>\n",
       "    .dataframe tbody tr th:only-of-type {\n",
       "        vertical-align: middle;\n",
       "    }\n",
       "\n",
       "    .dataframe tbody tr th {\n",
       "        vertical-align: top;\n",
       "    }\n",
       "\n",
       "    .dataframe thead th {\n",
       "        text-align: right;\n",
       "    }\n",
       "</style>\n",
       "<table border=\"1\" class=\"dataframe\">\n",
       "  <thead>\n",
       "    <tr style=\"text-align: right;\">\n",
       "      <th></th>\n",
       "      <th>exercise</th>\n",
       "      <th>equipment</th>\n",
       "      <th>difficulty</th>\n",
       "      <th>link</th>\n",
       "      <th>img_link</th>\n",
       "    </tr>\n",
       "  </thead>\n",
       "  <tbody>\n",
       "    <tr>\n",
       "      <th>0</th>\n",
       "      <td>Barbell Landmine Side Bend</td>\n",
       "      <td>Barbell</td>\n",
       "      <td>Intermediate</td>\n",
       "      <td>https://musclewiki.com/Barbell/Male/Abdominals...</td>\n",
       "      <td>https://www.musclewiki.com/media/uploads/barbe...</td>\n",
       "    </tr>\n",
       "    <tr>\n",
       "      <th>1</th>\n",
       "      <td>Dumbbell Woodchopper</td>\n",
       "      <td>Dumbbells</td>\n",
       "      <td>Advanced</td>\n",
       "      <td>https://musclewiki.com/Dumbbells/Male/Abdomina...</td>\n",
       "      <td>https://www.musclewiki.com/media/uploads/male-...</td>\n",
       "    </tr>\n",
       "    <tr>\n",
       "      <th>2</th>\n",
       "      <td>Kettlebell Woodchopper</td>\n",
       "      <td>Kettlebells</td>\n",
       "      <td>Beginner</td>\n",
       "      <td>https://musclewiki.com/Kettlebells/Male/Abdomi...</td>\n",
       "      <td>https://www.musclewiki.com/media/uploads/kettl...</td>\n",
       "    </tr>\n",
       "    <tr>\n",
       "      <th>3</th>\n",
       "      <td>Cable Wood Chopper</td>\n",
       "      <td>Cables</td>\n",
       "      <td>Intermediate</td>\n",
       "      <td>https://musclewiki.com/Cables/Male/Abdominals/...</td>\n",
       "      <td>https://www.musclewiki.com/media/uploads/cable...</td>\n",
       "    </tr>\n",
       "    <tr>\n",
       "      <th>4</th>\n",
       "      <td>Wood Chopper</td>\n",
       "      <td>Band</td>\n",
       "      <td>Advanced</td>\n",
       "      <td>https://musclewiki.com/Band/Male/Abdominals/Wo...</td>\n",
       "      <td>https://www.musclewiki.com/media/uploads/band-...</td>\n",
       "    </tr>\n",
       "    <tr>\n",
       "      <th>5</th>\n",
       "      <td>Russian Twist</td>\n",
       "      <td>Dumbbells</td>\n",
       "      <td>Intermediate</td>\n",
       "      <td>https://musclewiki.com/Dumbbells/Male/Abdomina...</td>\n",
       "      <td>https://www.musclewiki.com/media/uploads/male-...</td>\n",
       "    </tr>\n",
       "    <tr>\n",
       "      <th>6</th>\n",
       "      <td>Kettlebell Russian Twist</td>\n",
       "      <td>Kettlebells</td>\n",
       "      <td>Beginner</td>\n",
       "      <td>https://musclewiki.com/Kettlebells/Male/Abdomi...</td>\n",
       "      <td>https://www.musclewiki.com/media/uploads/kettl...</td>\n",
       "    </tr>\n",
       "    <tr>\n",
       "      <th>7</th>\n",
       "      <td>Pallof Press</td>\n",
       "      <td>Band</td>\n",
       "      <td>Beginner</td>\n",
       "      <td>https://musclewiki.com/Band/Male/Abdominals/Pa...</td>\n",
       "      <td>https://www.musclewiki.com/media/uploads/band-...</td>\n",
       "    </tr>\n",
       "    <tr>\n",
       "      <th>8</th>\n",
       "      <td>Windmill</td>\n",
       "      <td>Kettlebells</td>\n",
       "      <td>Beginner</td>\n",
       "      <td>https://musclewiki.com/Kettlebells/Male/Abdomi...</td>\n",
       "      <td>https://www.musclewiki.com/media/uploads/kettl...</td>\n",
       "    </tr>\n",
       "    <tr>\n",
       "      <th>9</th>\n",
       "      <td>Cable Pallof Press</td>\n",
       "      <td>Cables</td>\n",
       "      <td>Beginner</td>\n",
       "      <td>https://musclewiki.com/Cables/Male/Abdominals/...</td>\n",
       "      <td>https://www.musclewiki.com/media/uploads/cable...</td>\n",
       "    </tr>\n",
       "    <tr>\n",
       "      <th>10</th>\n",
       "      <td>Abdominals Stretch Variation Three</td>\n",
       "      <td>Stretches</td>\n",
       "      <td>Beginner</td>\n",
       "      <td>https://musclewiki.com/Stretches/Male/Abdomina...</td>\n",
       "      <td>https://www.musclewiki.com/media/uploads/male-...</td>\n",
       "    </tr>\n",
       "    <tr>\n",
       "      <th>11</th>\n",
       "      <td>Abdominals Stretch Variation Two</td>\n",
       "      <td>Stretches</td>\n",
       "      <td>Beginner</td>\n",
       "      <td>https://musclewiki.com/Stretches/Male/Abdomina...</td>\n",
       "      <td>https://www.musclewiki.com/media/uploads/Male-...</td>\n",
       "    </tr>\n",
       "    <tr>\n",
       "      <th>12</th>\n",
       "      <td>Leg Raises</td>\n",
       "      <td>Bodyweight</td>\n",
       "      <td>Intermediate</td>\n",
       "      <td>https://musclewiki.com/Bodyweight/Female/Abdom...</td>\n",
       "      <td>https://www.musclewiki.com/media/uploads/femal...</td>\n",
       "    </tr>\n",
       "  </tbody>\n",
       "</table>\n",
       "</div>"
      ],
      "text/plain": [
       "                              exercise      equipment      difficulty  \\\n",
       "0           Barbell Landmine Side Bend       Barbell    Intermediate    \n",
       "1                 Dumbbell Woodchopper     Dumbbells        Advanced    \n",
       "2               Kettlebell Woodchopper   Kettlebells        Beginner    \n",
       "3                   Cable Wood Chopper        Cables    Intermediate    \n",
       "4                         Wood Chopper          Band        Advanced    \n",
       "5                        Russian Twist     Dumbbells    Intermediate    \n",
       "6             Kettlebell Russian Twist   Kettlebells        Beginner    \n",
       "7                         Pallof Press          Band        Beginner    \n",
       "8                             Windmill   Kettlebells        Beginner    \n",
       "9                   Cable Pallof Press        Cables        Beginner    \n",
       "10  Abdominals Stretch Variation Three     Stretches        Beginner    \n",
       "11    Abdominals Stretch Variation Two     Stretches        Beginner    \n",
       "12                          Leg Raises    Bodyweight    Intermediate    \n",
       "\n",
       "                                                 link  \\\n",
       "0   https://musclewiki.com/Barbell/Male/Abdominals...   \n",
       "1   https://musclewiki.com/Dumbbells/Male/Abdomina...   \n",
       "2   https://musclewiki.com/Kettlebells/Male/Abdomi...   \n",
       "3   https://musclewiki.com/Cables/Male/Abdominals/...   \n",
       "4   https://musclewiki.com/Band/Male/Abdominals/Wo...   \n",
       "5   https://musclewiki.com/Dumbbells/Male/Abdomina...   \n",
       "6   https://musclewiki.com/Kettlebells/Male/Abdomi...   \n",
       "7   https://musclewiki.com/Band/Male/Abdominals/Pa...   \n",
       "8   https://musclewiki.com/Kettlebells/Male/Abdomi...   \n",
       "9   https://musclewiki.com/Cables/Male/Abdominals/...   \n",
       "10  https://musclewiki.com/Stretches/Male/Abdomina...   \n",
       "11  https://musclewiki.com/Stretches/Male/Abdomina...   \n",
       "12  https://musclewiki.com/Bodyweight/Female/Abdom...   \n",
       "\n",
       "                                             img_link  \n",
       "0   https://www.musclewiki.com/media/uploads/barbe...  \n",
       "1   https://www.musclewiki.com/media/uploads/male-...  \n",
       "2   https://www.musclewiki.com/media/uploads/kettl...  \n",
       "3   https://www.musclewiki.com/media/uploads/cable...  \n",
       "4   https://www.musclewiki.com/media/uploads/band-...  \n",
       "5   https://www.musclewiki.com/media/uploads/male-...  \n",
       "6   https://www.musclewiki.com/media/uploads/kettl...  \n",
       "7   https://www.musclewiki.com/media/uploads/band-...  \n",
       "8   https://www.musclewiki.com/media/uploads/kettl...  \n",
       "9   https://www.musclewiki.com/media/uploads/cable...  \n",
       "10  https://www.musclewiki.com/media/uploads/male-...  \n",
       "11  https://www.musclewiki.com/media/uploads/Male-...  \n",
       "12  https://www.musclewiki.com/media/uploads/femal...  "
      ]
     },
     "execution_count": 93,
     "metadata": {},
     "output_type": "execute_result"
    }
   ],
   "source": [
    "df_lst[14]"
   ]
  },
  {
   "cell_type": "markdown",
   "metadata": {},
   "source": [
    "df_lst[0].iloc[0]['link']\n",
    "df_lst[0].loc[0, 'img_front'] = 'hello'\n",
    "df_lst[0].loc[0, 'img_side'] = 'world'\n",
    "df_lst[0]"
   ]
  },
  {
   "cell_type": "code",
   "execution_count": null,
   "metadata": {},
   "outputs": [],
   "source": []
  },
  {
   "cell_type": "code",
   "execution_count": null,
   "metadata": {},
   "outputs": [],
   "source": []
  },
  {
   "cell_type": "code",
   "execution_count": null,
   "metadata": {},
   "outputs": [],
   "source": []
  },
  {
   "cell_type": "code",
   "execution_count": null,
   "metadata": {},
   "outputs": [],
   "source": []
  },
  {
   "cell_type": "code",
   "execution_count": null,
   "metadata": {},
   "outputs": [],
   "source": []
  },
  {
   "cell_type": "code",
   "execution_count": null,
   "metadata": {},
   "outputs": [],
   "source": []
  },
  {
   "cell_type": "code",
   "execution_count": null,
   "metadata": {},
   "outputs": [],
   "source": []
  },
  {
   "cell_type": "markdown",
   "metadata": {},
   "source": [
    "## 난이도로 구분\n",
    "- 추후 그룹화를 통해 기구 구분하여 각각 저장"
   ]
  },
  {
   "cell_type": "code",
   "execution_count": 30,
   "metadata": {},
   "outputs": [],
   "source": [
    "beginner_lst = []\n",
    "senior_lst = []\n",
    "\n"
   ]
  }
 ],
 "metadata": {
  "kernelspec": {
   "display_name": "Python 3 (ipykernel)",
   "language": "python",
   "name": "python3"
  },
  "language_info": {
   "codemirror_mode": {
    "name": "ipython",
    "version": 3
   },
   "file_extension": ".py",
   "mimetype": "text/x-python",
   "name": "python",
   "nbconvert_exporter": "python",
   "pygments_lexer": "ipython3",
   "version": "3.9.12"
  }
 },
 "nbformat": 4,
 "nbformat_minor": 2
}
