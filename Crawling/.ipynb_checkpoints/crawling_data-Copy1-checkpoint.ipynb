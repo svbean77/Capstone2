{
 "cells": [
  {
   "cell_type": "markdown",
   "metadata": {},
   "source": [
    "## 필요 라이브러리 설치"
   ]
  },
  {
   "cell_type": "markdown",
   "metadata": {},
   "source": [
    "!pip install BeautifulSoup4"
   ]
  },
  {
   "cell_type": "markdown",
   "metadata": {},
   "source": [
    "!pip install pandas"
   ]
  },
  {
   "cell_type": "markdown",
   "metadata": {},
   "source": [
    "!pip install numpy"
   ]
  },
  {
   "cell_type": "markdown",
   "metadata": {},
   "source": [
    "## 기본 html 파싱"
   ]
  },
  {
   "cell_type": "code",
   "execution_count": 1,
   "metadata": {},
   "outputs": [],
   "source": [
    "import requests\n",
    "from bs4 import BeautifulSoup\n",
    "import numpy as np\n",
    "import pandas as pd"
   ]
  },
  {
   "cell_type": "code",
   "execution_count": 2,
   "metadata": {},
   "outputs": [],
   "source": [
    "res = requests.get('https://musclewiki.com/Directory')\n",
    "soup = BeautifulSoup(res.content, 'html.parser')\n",
    "\n",
    "lst = soup.find_all('tr')"
   ]
  },
  {
   "cell_type": "markdown",
   "metadata": {},
   "source": [
    "## 필요 데이터 추출"
   ]
  },
  {
   "cell_type": "code",
   "execution_count": 3,
   "metadata": {},
   "outputs": [],
   "source": [
    "muscle = []\n",
    "exercise = []\n",
    "equipment = []\n",
    "difficulty = []\n",
    "link = []\n",
    "\n",
    "for item in lst:\n",
    "    txt = [tmp for tmp in item.get_text().split('\\n') if tmp]\n",
    "    if 'Exercises' in item.get_text():\n",
    "        muscle.append(txt[0].strip()[:-10])\n",
    "        exercise.append([])\n",
    "        equipment.append([])\n",
    "        difficulty.append([])\n",
    "        link.append([])\n",
    "        \n",
    "    else:\n",
    "        exercise[-1].append(txt[0])\n",
    "        equipment[-1].append(txt[-2])\n",
    "        difficulty[-1].append(txt[-1])\n",
    "        tmp = 'https://musclewiki.com' + item.find('a')['href']\n",
    "        link[-1].append(tmp)"
   ]
  },
  {
   "cell_type": "markdown",
   "metadata": {},
   "source": [
    "## 데이터프레임 생성"
   ]
  },
  {
   "cell_type": "code",
   "execution_count": 28,
   "metadata": {},
   "outputs": [],
   "source": [
    "df_lst = []\n",
    "\n",
    "for i in range(len(muscle)):\n",
    "    tmp_df = pd.DataFrame([exercise[i], equipment[i], difficulty[i], link[i]], \n",
    "                          index = ['exercise', 'equipment', 'difficulty', 'link']).transpose()\n",
    "    df_lst.append(tmp_df)"
   ]
  },
  {
   "cell_type": "markdown",
   "metadata": {},
   "source": [
    "## 데이터프레임에 이미지 및 운동 방법 추가"
   ]
  },
  {
   "cell_type": "markdown",
   "metadata": {},
   "source": [
    "## https://www.musclewiki.com + 이미지주소 하면 움짤 주소임!"
   ]
  },
  {
   "cell_type": "code",
   "execution_count": 48,
   "metadata": {},
   "outputs": [
    {
     "data": {
      "text/plain": [
       "'/media/uploads/male-barbell-curl-front_uKPCb8P.gif'"
      ]
     },
     "execution_count": 48,
     "metadata": {},
     "output_type": "execute_result"
    }
   ],
   "source": [
    "df = df_lst[0]\n",
    "a = df.loc[0, 'link']\n",
    "b = requests.get(a)\n",
    "s = BeautifulSoup(b.content, 'html.parser')\n",
    "s.find(class_ = 'exercise-images-grid').find_all('img')[0]['src']"
   ]
  },
  {
   "cell_type": "code",
   "execution_count": null,
   "metadata": {},
   "outputs": [],
   "source": []
  },
  {
   "cell_type": "code",
   "execution_count": 51,
   "metadata": {},
   "outputs": [
    {
     "ename": "IndexError",
     "evalue": "list index out of range",
     "output_type": "error",
     "traceback": [
      "\u001b[1;31m---------------------------------------------------------------------------\u001b[0m",
      "\u001b[1;31mIndexError\u001b[0m                                Traceback (most recent call last)",
      "Input \u001b[1;32mIn [51]\u001b[0m, in \u001b[0;36m<cell line: 1>\u001b[1;34m()\u001b[0m\n\u001b[0;32m      7\u001b[0m images \u001b[38;5;241m=\u001b[39m tmp_soup\u001b[38;5;241m.\u001b[39mfind(class_ \u001b[38;5;241m=\u001b[39m \u001b[38;5;124m'\u001b[39m\u001b[38;5;124mexercise-images-grid\u001b[39m\u001b[38;5;124m'\u001b[39m)\u001b[38;5;241m.\u001b[39mfind_all(\u001b[38;5;124m'\u001b[39m\u001b[38;5;124mimg\u001b[39m\u001b[38;5;124m'\u001b[39m)\n\u001b[0;32m      8\u001b[0m df\u001b[38;5;241m.\u001b[39mloc[i, \u001b[38;5;124m'\u001b[39m\u001b[38;5;124mimg_front\u001b[39m\u001b[38;5;124m'\u001b[39m] \u001b[38;5;241m=\u001b[39m \u001b[38;5;124m'\u001b[39m\u001b[38;5;124mhttps://www.musclewiki.com\u001b[39m\u001b[38;5;124m'\u001b[39m \u001b[38;5;241m+\u001b[39m images[\u001b[38;5;241m0\u001b[39m][\u001b[38;5;124m'\u001b[39m\u001b[38;5;124msrc\u001b[39m\u001b[38;5;124m'\u001b[39m]\n\u001b[1;32m----> 9\u001b[0m df\u001b[38;5;241m.\u001b[39mloc[i, \u001b[38;5;124m'\u001b[39m\u001b[38;5;124mimg_side\u001b[39m\u001b[38;5;124m'\u001b[39m] \u001b[38;5;241m=\u001b[39m \u001b[38;5;124m'\u001b[39m\u001b[38;5;124mhttps://www.musclewiki.com\u001b[39m\u001b[38;5;124m'\u001b[39m \u001b[38;5;241m+\u001b[39m \u001b[43mimages\u001b[49m\u001b[43m[\u001b[49m\u001b[38;5;241;43m1\u001b[39;49m\u001b[43m]\u001b[49m[\u001b[38;5;124m'\u001b[39m\u001b[38;5;124msrc\u001b[39m\u001b[38;5;124m'\u001b[39m]\n",
      "\u001b[1;31mIndexError\u001b[0m: list index out of range"
     ]
    }
   ],
   "source": [
    "for df in df_lst:\n",
    "    for i in range(len(df)):\n",
    "        link = df.loc[i, 'link']\n",
    "        tmp_res = requests.get(link)\n",
    "        tmp_soup = BeautifulSoup(tmp_res.content, 'html.parser')\n",
    "        \n",
    "        images = tmp_soup.find(class_ = 'exercise-images-grid').find_all('img')\n",
    "        df.loc[i, 'img_front'] = 'https://www.musclewiki.com' + images[0]['src']\n",
    "        df.loc[i, 'img_side'] = 'https://www.musclewiki.com' + images[1]['src']"
   ]
  },
  {
   "cell_type": "code",
   "execution_count": null,
   "metadata": {},
   "outputs": [],
   "source": [
    "df_lst[0]"
   ]
  },
  {
   "cell_type": "code",
   "execution_count": 27,
   "metadata": {},
   "outputs": [
    {
     "data": {
      "text/html": [
       "<div>\n",
       "<style scoped>\n",
       "    .dataframe tbody tr th:only-of-type {\n",
       "        vertical-align: middle;\n",
       "    }\n",
       "\n",
       "    .dataframe tbody tr th {\n",
       "        vertical-align: top;\n",
       "    }\n",
       "\n",
       "    .dataframe thead th {\n",
       "        text-align: right;\n",
       "    }\n",
       "</style>\n",
       "<table border=\"1\" class=\"dataframe\">\n",
       "  <thead>\n",
       "    <tr style=\"text-align: right;\">\n",
       "      <th></th>\n",
       "      <th>exercise</th>\n",
       "      <th>equipment</th>\n",
       "      <th>difficulty</th>\n",
       "      <th>link</th>\n",
       "      <th>img_front</th>\n",
       "      <th>img_side</th>\n",
       "    </tr>\n",
       "  </thead>\n",
       "  <tbody>\n",
       "    <tr>\n",
       "      <th>0</th>\n",
       "      <td>Barbell Curl</td>\n",
       "      <td>Barbell</td>\n",
       "      <td>Beginner</td>\n",
       "      <td>https://musclewiki.com/Barbell/Male/Biceps/Bar...</td>\n",
       "      <td>hello</td>\n",
       "      <td>world</td>\n",
       "    </tr>\n",
       "    <tr>\n",
       "      <th>1</th>\n",
       "      <td>Dumbbell Curl</td>\n",
       "      <td>Dumbbells</td>\n",
       "      <td>Beginner</td>\n",
       "      <td>https://musclewiki.com/Dumbbells/Male/Biceps/D...</td>\n",
       "      <td>hi</td>\n",
       "      <td>NaN</td>\n",
       "    </tr>\n",
       "    <tr>\n",
       "      <th>2</th>\n",
       "      <td>Dumbbell Hammer Curl</td>\n",
       "      <td>Dumbbells</td>\n",
       "      <td>Beginner</td>\n",
       "      <td>https://musclewiki.com/Dumbbells/Male/Biceps/D...</td>\n",
       "      <td>NaN</td>\n",
       "      <td>NaN</td>\n",
       "    </tr>\n",
       "    <tr>\n",
       "      <th>3</th>\n",
       "      <td>Goblet Curl</td>\n",
       "      <td>Kettlebells</td>\n",
       "      <td>Beginner</td>\n",
       "      <td>https://musclewiki.com/Kettlebells/Male/Biceps...</td>\n",
       "      <td>NaN</td>\n",
       "      <td>NaN</td>\n",
       "    </tr>\n",
       "    <tr>\n",
       "      <th>4</th>\n",
       "      <td>Concentration Curl</td>\n",
       "      <td>Kettlebells</td>\n",
       "      <td>Intermediate</td>\n",
       "      <td>https://musclewiki.com/Kettlebells/Male/Biceps...</td>\n",
       "      <td>NaN</td>\n",
       "      <td>NaN</td>\n",
       "    </tr>\n",
       "    <tr>\n",
       "      <th>5</th>\n",
       "      <td>Preacher Curl</td>\n",
       "      <td>Kettlebells</td>\n",
       "      <td>Intermediate</td>\n",
       "      <td>https://musclewiki.com/Kettlebells/Male/Biceps...</td>\n",
       "      <td>NaN</td>\n",
       "      <td>NaN</td>\n",
       "    </tr>\n",
       "    <tr>\n",
       "      <th>6</th>\n",
       "      <td>Single Arm Curl</td>\n",
       "      <td>Kettlebells</td>\n",
       "      <td>Beginner</td>\n",
       "      <td>https://musclewiki.com/Kettlebells/Male/Biceps...</td>\n",
       "      <td>NaN</td>\n",
       "      <td>NaN</td>\n",
       "    </tr>\n",
       "    <tr>\n",
       "      <th>7</th>\n",
       "      <td>Biceps Stretch Variation Five</td>\n",
       "      <td>Stretches</td>\n",
       "      <td>Beginner</td>\n",
       "      <td>https://musclewiki.com/Stretches/Male/Biceps/B...</td>\n",
       "      <td>NaN</td>\n",
       "      <td>NaN</td>\n",
       "    </tr>\n",
       "    <tr>\n",
       "      <th>8</th>\n",
       "      <td>Biceps Stretch Variation Four</td>\n",
       "      <td>Stretches</td>\n",
       "      <td>Beginner</td>\n",
       "      <td>https://musclewiki.com/Stretches/Male/Biceps/B...</td>\n",
       "      <td>NaN</td>\n",
       "      <td>NaN</td>\n",
       "    </tr>\n",
       "    <tr>\n",
       "      <th>9</th>\n",
       "      <td>Biceps Stretch Variation Three</td>\n",
       "      <td>Stretches</td>\n",
       "      <td>Beginner</td>\n",
       "      <td>https://musclewiki.com/Stretches/Male/Biceps/B...</td>\n",
       "      <td>NaN</td>\n",
       "      <td>NaN</td>\n",
       "    </tr>\n",
       "    <tr>\n",
       "      <th>10</th>\n",
       "      <td>Biceps Stretch Variation Two</td>\n",
       "      <td>Stretches</td>\n",
       "      <td>Beginner</td>\n",
       "      <td>https://musclewiki.com/Stretches/Male/Biceps/B...</td>\n",
       "      <td>NaN</td>\n",
       "      <td>NaN</td>\n",
       "    </tr>\n",
       "    <tr>\n",
       "      <th>11</th>\n",
       "      <td>Biceps Stretch Variation One</td>\n",
       "      <td>Stretches</td>\n",
       "      <td>Beginner</td>\n",
       "      <td>https://musclewiki.com/Stretches/Male/Biceps/B...</td>\n",
       "      <td>NaN</td>\n",
       "      <td>NaN</td>\n",
       "    </tr>\n",
       "    <tr>\n",
       "      <th>12</th>\n",
       "      <td>Inverted Row</td>\n",
       "      <td>Bodyweight</td>\n",
       "      <td>Beginner</td>\n",
       "      <td>https://musclewiki.com/Bodyweight/Male/Biceps/...</td>\n",
       "      <td>NaN</td>\n",
       "      <td>NaN</td>\n",
       "    </tr>\n",
       "    <tr>\n",
       "      <th>13</th>\n",
       "      <td>Chin Ups</td>\n",
       "      <td>Bodyweight</td>\n",
       "      <td>Intermediate</td>\n",
       "      <td>https://musclewiki.com/Bodyweight/Male/Biceps/...</td>\n",
       "      <td>NaN</td>\n",
       "      <td>NaN</td>\n",
       "    </tr>\n",
       "    <tr>\n",
       "      <th>14</th>\n",
       "      <td>Twisting Curl</td>\n",
       "      <td>Cables</td>\n",
       "      <td>Advanced</td>\n",
       "      <td>https://musclewiki.com/Cables/Male/Biceps/Twis...</td>\n",
       "      <td>NaN</td>\n",
       "      <td>NaN</td>\n",
       "    </tr>\n",
       "    <tr>\n",
       "      <th>15</th>\n",
       "      <td>Bayesian Curl</td>\n",
       "      <td>Cables</td>\n",
       "      <td>Beginner</td>\n",
       "      <td>https://musclewiki.com/Cables/Male/Biceps/Baye...</td>\n",
       "      <td>NaN</td>\n",
       "      <td>NaN</td>\n",
       "    </tr>\n",
       "    <tr>\n",
       "      <th>16</th>\n",
       "      <td>Cable Reverse Curl</td>\n",
       "      <td>Cables</td>\n",
       "      <td>Intermediate</td>\n",
       "      <td>https://musclewiki.com/Cables/Male/Biceps/Cabl...</td>\n",
       "      <td>NaN</td>\n",
       "      <td>NaN</td>\n",
       "    </tr>\n",
       "    <tr>\n",
       "      <th>17</th>\n",
       "      <td>Cable Hammer Curl</td>\n",
       "      <td>Cables</td>\n",
       "      <td>Beginner</td>\n",
       "      <td>https://musclewiki.com/Cables/Male/Biceps/Cabl...</td>\n",
       "      <td>NaN</td>\n",
       "      <td>NaN</td>\n",
       "    </tr>\n",
       "    <tr>\n",
       "      <th>18</th>\n",
       "      <td>Curl</td>\n",
       "      <td>Band</td>\n",
       "      <td>Beginner</td>\n",
       "      <td>https://musclewiki.com/Band/Male/Biceps/Curl</td>\n",
       "      <td>NaN</td>\n",
       "      <td>NaN</td>\n",
       "    </tr>\n",
       "    <tr>\n",
       "      <th>19</th>\n",
       "      <td>Hammer Curl</td>\n",
       "      <td>Band</td>\n",
       "      <td>Intermediate</td>\n",
       "      <td>https://musclewiki.com/Band/Male/Biceps/Hammer...</td>\n",
       "      <td>NaN</td>\n",
       "      <td>NaN</td>\n",
       "    </tr>\n",
       "    <tr>\n",
       "      <th>20</th>\n",
       "      <td>Kneeling Single Arm Pulldown</td>\n",
       "      <td>Band</td>\n",
       "      <td>Beginner</td>\n",
       "      <td>https://musclewiki.com/Band/Male/Biceps/Kneeli...</td>\n",
       "      <td>NaN</td>\n",
       "      <td>NaN</td>\n",
       "    </tr>\n",
       "    <tr>\n",
       "      <th>21</th>\n",
       "      <td>Reverse Curl</td>\n",
       "      <td>Band</td>\n",
       "      <td>Intermediate</td>\n",
       "      <td>https://musclewiki.com/Band/Male/Biceps/Revers...</td>\n",
       "      <td>NaN</td>\n",
       "      <td>NaN</td>\n",
       "    </tr>\n",
       "    <tr>\n",
       "      <th>22</th>\n",
       "      <td>Dumbbell Reverse Curl</td>\n",
       "      <td>Dumbbells</td>\n",
       "      <td>Intermediate</td>\n",
       "      <td>https://musclewiki.com/Dumbbells/Male/Biceps/D...</td>\n",
       "      <td>NaN</td>\n",
       "      <td>NaN</td>\n",
       "    </tr>\n",
       "    <tr>\n",
       "      <th>23</th>\n",
       "      <td>Dumbbell Row Unilateral</td>\n",
       "      <td>Dumbbells</td>\n",
       "      <td>Beginner</td>\n",
       "      <td>https://musclewiki.com/Dumbbells/Male/Biceps/D...</td>\n",
       "      <td>NaN</td>\n",
       "      <td>NaN</td>\n",
       "    </tr>\n",
       "    <tr>\n",
       "      <th>24</th>\n",
       "      <td>Barbell Reverse Curl</td>\n",
       "      <td>Barbell</td>\n",
       "      <td>Advanced</td>\n",
       "      <td>https://musclewiki.com/Barbell/Male/Biceps/Bar...</td>\n",
       "      <td>NaN</td>\n",
       "      <td>NaN</td>\n",
       "    </tr>\n",
       "  </tbody>\n",
       "</table>\n",
       "</div>"
      ],
      "text/plain": [
       "                          exercise      equipment      difficulty  \\\n",
       "0                     Barbell Curl       Barbell        Beginner    \n",
       "1                    Dumbbell Curl     Dumbbells        Beginner    \n",
       "2             Dumbbell Hammer Curl     Dumbbells        Beginner    \n",
       "3                      Goblet Curl   Kettlebells        Beginner    \n",
       "4               Concentration Curl   Kettlebells    Intermediate    \n",
       "5                    Preacher Curl   Kettlebells    Intermediate    \n",
       "6                  Single Arm Curl   Kettlebells        Beginner    \n",
       "7    Biceps Stretch Variation Five     Stretches        Beginner    \n",
       "8    Biceps Stretch Variation Four     Stretches        Beginner    \n",
       "9   Biceps Stretch Variation Three     Stretches        Beginner    \n",
       "10    Biceps Stretch Variation Two     Stretches        Beginner    \n",
       "11    Biceps Stretch Variation One     Stretches        Beginner    \n",
       "12                    Inverted Row    Bodyweight        Beginner    \n",
       "13                        Chin Ups    Bodyweight    Intermediate    \n",
       "14                   Twisting Curl        Cables        Advanced    \n",
       "15                   Bayesian Curl        Cables        Beginner    \n",
       "16              Cable Reverse Curl        Cables    Intermediate    \n",
       "17               Cable Hammer Curl        Cables        Beginner    \n",
       "18                            Curl          Band        Beginner    \n",
       "19                     Hammer Curl          Band    Intermediate    \n",
       "20    Kneeling Single Arm Pulldown          Band        Beginner    \n",
       "21                    Reverse Curl          Band    Intermediate    \n",
       "22           Dumbbell Reverse Curl     Dumbbells    Intermediate    \n",
       "23         Dumbbell Row Unilateral     Dumbbells        Beginner    \n",
       "24            Barbell Reverse Curl       Barbell        Advanced    \n",
       "\n",
       "                                                 link img_front img_side  \n",
       "0   https://musclewiki.com/Barbell/Male/Biceps/Bar...     hello    world  \n",
       "1   https://musclewiki.com/Dumbbells/Male/Biceps/D...        hi      NaN  \n",
       "2   https://musclewiki.com/Dumbbells/Male/Biceps/D...       NaN      NaN  \n",
       "3   https://musclewiki.com/Kettlebells/Male/Biceps...       NaN      NaN  \n",
       "4   https://musclewiki.com/Kettlebells/Male/Biceps...       NaN      NaN  \n",
       "5   https://musclewiki.com/Kettlebells/Male/Biceps...       NaN      NaN  \n",
       "6   https://musclewiki.com/Kettlebells/Male/Biceps...       NaN      NaN  \n",
       "7   https://musclewiki.com/Stretches/Male/Biceps/B...       NaN      NaN  \n",
       "8   https://musclewiki.com/Stretches/Male/Biceps/B...       NaN      NaN  \n",
       "9   https://musclewiki.com/Stretches/Male/Biceps/B...       NaN      NaN  \n",
       "10  https://musclewiki.com/Stretches/Male/Biceps/B...       NaN      NaN  \n",
       "11  https://musclewiki.com/Stretches/Male/Biceps/B...       NaN      NaN  \n",
       "12  https://musclewiki.com/Bodyweight/Male/Biceps/...       NaN      NaN  \n",
       "13  https://musclewiki.com/Bodyweight/Male/Biceps/...       NaN      NaN  \n",
       "14  https://musclewiki.com/Cables/Male/Biceps/Twis...       NaN      NaN  \n",
       "15  https://musclewiki.com/Cables/Male/Biceps/Baye...       NaN      NaN  \n",
       "16  https://musclewiki.com/Cables/Male/Biceps/Cabl...       NaN      NaN  \n",
       "17  https://musclewiki.com/Cables/Male/Biceps/Cabl...       NaN      NaN  \n",
       "18       https://musclewiki.com/Band/Male/Biceps/Curl       NaN      NaN  \n",
       "19  https://musclewiki.com/Band/Male/Biceps/Hammer...       NaN      NaN  \n",
       "20  https://musclewiki.com/Band/Male/Biceps/Kneeli...       NaN      NaN  \n",
       "21  https://musclewiki.com/Band/Male/Biceps/Revers...       NaN      NaN  \n",
       "22  https://musclewiki.com/Dumbbells/Male/Biceps/D...       NaN      NaN  \n",
       "23  https://musclewiki.com/Dumbbells/Male/Biceps/D...       NaN      NaN  \n",
       "24  https://musclewiki.com/Barbell/Male/Biceps/Bar...       NaN      NaN  "
      ]
     },
     "execution_count": 27,
     "metadata": {},
     "output_type": "execute_result"
    }
   ],
   "source": [
    "df_lst[0].iloc[0]['link']\n",
    "df_lst[0].loc[0, 'img_front'] = 'hello'\n",
    "df_lst[0].loc[0, 'img_side'] = 'world'\n",
    "df_lst[0]"
   ]
  },
  {
   "cell_type": "code",
   "execution_count": null,
   "metadata": {},
   "outputs": [],
   "source": []
  },
  {
   "cell_type": "code",
   "execution_count": null,
   "metadata": {},
   "outputs": [],
   "source": []
  },
  {
   "cell_type": "code",
   "execution_count": null,
   "metadata": {},
   "outputs": [],
   "source": []
  },
  {
   "cell_type": "code",
   "execution_count": null,
   "metadata": {},
   "outputs": [],
   "source": []
  },
  {
   "cell_type": "code",
   "execution_count": null,
   "metadata": {},
   "outputs": [],
   "source": []
  },
  {
   "cell_type": "code",
   "execution_count": null,
   "metadata": {},
   "outputs": [],
   "source": []
  },
  {
   "cell_type": "code",
   "execution_count": null,
   "metadata": {},
   "outputs": [],
   "source": []
  },
  {
   "cell_type": "markdown",
   "metadata": {},
   "source": [
    "## 난이도로 구분\n",
    "- 추후 그룹화를 통해 기구 구분하여 각각 저장"
   ]
  },
  {
   "cell_type": "code",
   "execution_count": 30,
   "metadata": {},
   "outputs": [],
   "source": [
    "beginner_lst = []\n",
    "senior_lst = []\n",
    "\n"
   ]
  }
 ],
 "metadata": {
  "kernelspec": {
   "display_name": "Python 3 (ipykernel)",
   "language": "python",
   "name": "python3"
  },
  "language_info": {
   "codemirror_mode": {
    "name": "ipython",
    "version": 3
   },
   "file_extension": ".py",
   "mimetype": "text/x-python",
   "name": "python",
   "nbconvert_exporter": "python",
   "pygments_lexer": "ipython3",
   "version": "3.9.12"
  }
 },
 "nbformat": 4,
 "nbformat_minor": 2
}
