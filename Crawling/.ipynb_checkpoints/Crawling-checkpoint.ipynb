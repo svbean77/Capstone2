{
 "cells": [
  {
   "cell_type": "markdown",
   "metadata": {},
   "source": [
    "## 필요 라이브러리 설치"
   ]
  },
  {
   "cell_type": "markdown",
   "metadata": {},
   "source": [
    "!pip install BeautifulSoup4"
   ]
  },
  {
   "cell_type": "markdown",
   "metadata": {},
   "source": [
    "!pip install pandas"
   ]
  },
  {
   "cell_type": "markdown",
   "metadata": {},
   "source": [
    "## 기본 html 파싱"
   ]
  },
  {
   "cell_type": "code",
   "execution_count": 2,
   "metadata": {},
   "outputs": [],
   "source": [
    "import requests\n",
    "from bs4 import BeautifulSoup\n",
    "import pandas as pd"
   ]
  },
  {
   "cell_type": "code",
   "execution_count": 3,
   "metadata": {},
   "outputs": [],
   "source": [
    "res = requests.get('https://musclewiki.com/Directory')\n",
    "soup = BeautifulSoup(res.content, 'html.parser')\n",
    "\n",
    "lst = soup.find_all('tr')"
   ]
  },
  {
   "cell_type": "markdown",
   "metadata": {},
   "source": [
    "## 필요 데이터 추출"
   ]
  },
  {
   "cell_type": "code",
   "execution_count": 32,
   "metadata": {},
   "outputs": [],
   "source": [
    "muscle = []\n",
    "exercise = []\n",
    "equipment = []\n",
    "difficulty = []\n",
    "link = []\n",
    "name = \"\"\n",
    "\n",
    "for item in lst:\n",
    "    txt = [tmp for tmp in item.get_text().split('\\n') if tmp]\n",
    "    if 'Exercises' in item.get_text():\n",
    "        name = txt[0].strip()[:-10]\n",
    "        \n",
    "    else:\n",
    "        muscle.append(name)\n",
    "        exercise.append(txt[0].strip())\n",
    "        equipment.append(txt[-2].strip())\n",
    "        difficulty.append(txt[-1])\n",
    "        tmp = 'https://musclewiki.com' + item.find('a')['href']\n",
    "        link.append(tmp)"
   ]
  },
  {
   "cell_type": "markdown",
   "metadata": {},
   "source": [
    "## 데이터프레임 생성"
   ]
  },
  {
   "cell_type": "code",
   "execution_count": 38,
   "metadata": {},
   "outputs": [],
   "source": [
    "df = pd.DataFrame([muscle, exercise, equipment, difficulty, link], \n",
    "                  index = ['muscle', 'exercise', 'equipment', 'difficulty', 'link']).transpose()"
   ]
  },
  {
   "cell_type": "code",
   "execution_count": 84,
   "metadata": {},
   "outputs": [
    {
     "data": {
      "text/plain": [
       "{'Band',\n",
       " 'Barbell',\n",
       " 'Bodyweight',\n",
       " 'Cables',\n",
       " 'Dumbbells',\n",
       " 'Kettlebells',\n",
       " 'Machine',\n",
       " 'Stretches'}"
      ]
     },
     "execution_count": 84,
     "metadata": {},
     "output_type": "execute_result"
    }
   ],
   "source": [
    "set(equipment)"
   ]
  },
  {
   "cell_type": "markdown",
   "metadata": {},
   "source": [
    "## 데이터프레임에 이미지 및 운동 방법 추가"
   ]
  },
  {
   "cell_type": "code",
   "execution_count": 75,
   "metadata": {},
   "outputs": [],
   "source": [
    "for i in range(len(df)):\n",
    "    link = df.loc[i, 'link']\n",
    "    res2 = requests.get(link)\n",
    "    soup2 = BeautifulSoup(res2.content, 'html.parser')\n",
    "    \n",
    "    if '404' in soup2.get_text():\n",
    "        df.loc[i, 'image1'] = 'no data'\n",
    "        df.loc[i, 'image2'] = 'no data'\n",
    "        df.loc[i, 'video1'] = 'no data'\n",
    "        df.loc[i, 'video2'] = 'no data'\n",
    "        df.loc[i, 'step'] = 'no data'\n",
    "        \n",
    "    else:\n",
    "        images = soup2.find(class_ = 'exercise-images-grid').find_all('a')\n",
    "        if images:\n",
    "            df.loc[i, 'image1'] = 'https://www.musclewiki.com' + images[0].find('img')['src']\n",
    "            df.loc[i, 'video1'] = images[0]['href']\n",
    "            if len(images) == 2:\n",
    "                df.loc[i, 'image2'] = 'https://www.musclewiki.com' + images[1].find('img')['src']\n",
    "                df.loc[i, 'video2'] = images[1]['href']\n",
    "            else:\n",
    "                df.loc[i, 'image2'] = 'no data'\n",
    "                df.loc[i, 'video2'] = 'no data'\n",
    "        else:\n",
    "            df.loc[i, 'image1'] = 'no data'\n",
    "            df.loc[i, 'image2'] = 'no data'\n",
    "            df.loc[i, 'video1'] = 'no data'\n",
    "            df.loc[i, 'video2'] = 'no data'\n",
    "            \n",
    "        step_parse = soup2.find(class_ = 'steps-list')\n",
    "        step_lst = [item for item in step_parse.get_text().split('\\n') if item]\n",
    "        step = \"\"\n",
    "        \n",
    "        for j in range(len(step_lst)):\n",
    "            step = step + str(j + 1) + '. ' + step_lst[j] + '\\n'\n",
    "        step = step.strip('\\n')\n",
    "        \n",
    "        if step:\n",
    "            df.loc[i, 'step'] = step\n",
    "        else:\n",
    "            df.loc[i, 'step'] = 'no data'"
   ]
  },
  {
   "cell_type": "markdown",
   "metadata": {},
   "source": [
    "## 데이터 한글로 변환\n",
    "- googletrans 라이브러리 사용"
   ]
  },
  {
   "cell_type": "markdown",
   "metadata": {},
   "source": [
    "!pip install googletrans==4.0.0-rc1"
   ]
  },
  {
   "cell_type": "code",
   "execution_count": 81,
   "metadata": {},
   "outputs": [],
   "source": [
    "import googletrans\n",
    "import time\n",
    "\n",
    "translator = googletrans.Translator()"
   ]
  },
  {
   "cell_type": "code",
   "execution_count": 82,
   "metadata": {},
   "outputs": [],
   "source": [
    "for i in range(len(df)):\n",
    "    step = df.loc[i, 'step']\n",
    "    time.sleep(0.5)\n",
    "    if step != 'no data':\n",
    "        trans = translator.translate(step, dest = 'ko', src = 'en')\n",
    "        df.loc[i, 'step'] = trans.text\n",
    "        \n",
    "df.to_csv('./data/exercise_data.csv', encoding = 'utf-8-sig', index = False)"
   ]
  }
 ],
 "metadata": {
  "kernelspec": {
   "display_name": "Python 3 (ipykernel)",
   "language": "python",
   "name": "python3"
  },
  "language_info": {
   "codemirror_mode": {
    "name": "ipython",
    "version": 3
   },
   "file_extension": ".py",
   "mimetype": "text/x-python",
   "name": "python",
   "nbconvert_exporter": "python",
   "pygments_lexer": "ipython3",
   "version": "3.9.12"
  }
 },
 "nbformat": 4,
 "nbformat_minor": 2
}
