{
 "cells": [
  {
   "cell_type": "markdown",
   "metadata": {},
   "source": [
    "## 필요 라이브러리 설치"
   ]
  },
  {
   "cell_type": "markdown",
   "metadata": {},
   "source": [
    "!pip install BeautifulSoup4"
   ]
  },
  {
   "cell_type": "markdown",
   "metadata": {},
   "source": [
    "!pip install pandas"
   ]
  },
  {
   "cell_type": "markdown",
   "metadata": {},
   "source": [
    "!pip install numpy"
   ]
  },
  {
   "cell_type": "markdown",
   "metadata": {},
   "source": [
    "## 기본 html 파싱"
   ]
  },
  {
   "cell_type": "code",
   "execution_count": 1,
   "metadata": {},
   "outputs": [],
   "source": [
    "import requests\n",
    "from bs4 import BeautifulSoup\n",
    "import numpy as np\n",
    "import pandas as pd"
   ]
  },
  {
   "cell_type": "code",
   "execution_count": 2,
   "metadata": {},
   "outputs": [],
   "source": [
    "res = requests.get('https://musclewiki.com/Directory')\n",
    "soup = BeautifulSoup(res.content, 'html.parser')\n",
    "\n",
    "lst = soup.find_all('tr')"
   ]
  },
  {
   "cell_type": "markdown",
   "metadata": {},
   "source": [
    "## 필요 데이터 추출"
   ]
  },
  {
   "cell_type": "code",
   "execution_count": 3,
   "metadata": {},
   "outputs": [],
   "source": [
    "muscle = []\n",
    "exercise = []\n",
    "equipment = []\n",
    "difficulty = []\n",
    "link = []\n",
    "\n",
    "for item in lst:\n",
    "    txt = [tmp for tmp in item.get_text().split('\\n') if tmp]\n",
    "    if 'Exercises' in item.get_text():\n",
    "        muscle.append(txt[0].strip()[:-10])\n",
    "        exercise.append([])\n",
    "        equipment.append([])\n",
    "        difficulty.append([])\n",
    "        link.append([])\n",
    "        \n",
    "    else:\n",
    "        exercise[-1].append(txt[0].strip())\n",
    "        equipment[-1].append(txt[-2].strip())\n",
    "        difficulty[-1].append(txt[-1].strip())\n",
    "        tmp = 'https://musclewiki.com' + item.find('a')['href']\n",
    "        link[-1].append(tmp)"
   ]
  },
  {
   "cell_type": "markdown",
   "metadata": {},
   "source": [
    "## 데이터프레임 생성"
   ]
  },
  {
   "cell_type": "code",
   "execution_count": 4,
   "metadata": {},
   "outputs": [],
   "source": [
    "df_lst = []\n",
    "\n",
    "for i in range(len(muscle)):\n",
    "    tmp_df = pd.DataFrame([exercise[i], equipment[i], difficulty[i], link[i]], \n",
    "                          index = ['exercise', 'equipment', 'difficulty', 'link']).transpose()\n",
    "    df_lst.append(tmp_df)"
   ]
  },
  {
   "cell_type": "markdown",
   "metadata": {},
   "source": [
    "## 데이터프레임에 이미지 및 운동 방법 추가"
   ]
  },
  {
   "cell_type": "code",
   "execution_count": 5,
   "metadata": {},
   "outputs": [],
   "source": [
    "for df in df_lst:\n",
    "    for i in range(len(df)):\n",
    "        link = df.loc[i, 'link']\n",
    "        tmp_res = requests.get(link)\n",
    "        tmp_soup = BeautifulSoup(tmp_res.content, 'html.parser')\n",
    "        \n",
    "        if '404' in tmp_soup.get_text():\n",
    "            df.loc[i, 'img_link'] = '이미지 주소 오류'\n",
    "        else:\n",
    "            image = tmp_soup.find(class_ = 'exercise-images-grid')\n",
    "            df.loc[i, 'img_link'] = 'https://www.musclewiki.com' + image.find('img')['src']\n",
    "            df.loc[i, 'video_link'] = image.find('a')['href']\n",
    "            \n",
    "            step_parse = tmp_soup.find(class_ = 'steps-list')\n",
    "            step_lst = [item for item in step_parse.get_text().split('\\n') if item]\n",
    "            step = \"\"\n",
    "            for j in range(len(step_lst)):\n",
    "                step = step + str(j + 1) + '. ' + step_lst[j] + \"\\n\"\n",
    "            df.loc[i, 'step'] = step"
   ]
  },
  {
   "cell_type": "markdown",
   "metadata": {},
   "source": [
    "## 난이도로 구분\n",
    "- 기구별 구분은 불러올 때 sql문을 이용해 조건 검색"
   ]
  },
  {
   "cell_type": "code",
   "execution_count": 6,
   "metadata": {},
   "outputs": [],
   "source": [
    "beginner = []\n",
    "master = []\n",
    "\n",
    "for df in df_lst:\n",
    "    beginner.append(df.loc[df['difficulty'] == 'Beginner'])\n",
    "    master.append(df.loc[df['difficulty'] != 'Beginner'])"
   ]
  },
  {
   "cell_type": "code",
   "execution_count": 7,
   "metadata": {},
   "outputs": [],
   "source": [
    "for i in range(len(df)):\n",
    "    b_filename = \"eng_Beginner_\" + muscle[i]\n",
    "    m_filename = \"eng_Master_\"+ muscle[i]\n",
    "    \n",
    "    b_df = beginner[i].loc[beginner[i]['difficulty'] == 'Beginner']\n",
    "    m_df = master[i].loc[master[i]['difficulty'] != 'Beginner']\n",
    "    \n",
    "    b_df.to_csv('data/' + b_filename + '.csv', index = False)\n",
    "    m_df.to_csv('data/' + m_filename + '.csv', index = False)"
   ]
  },
  {
   "cell_type": "markdown",
   "metadata": {},
   "source": [
    "## 데이터 한글로 변환\n",
    "- googletrans 라이브러리 사용"
   ]
  }
 ],
 "metadata": {
  "kernelspec": {
   "display_name": "Python 3 (ipykernel)",
   "language": "python",
   "name": "python3"
  },
  "language_info": {
   "codemirror_mode": {
    "name": "ipython",
    "version": 3
   },
   "file_extension": ".py",
   "mimetype": "text/x-python",
   "name": "python",
   "nbconvert_exporter": "python",
   "pygments_lexer": "ipython3",
   "version": "3.9.12"
  }
 },
 "nbformat": 4,
 "nbformat_minor": 2
}
