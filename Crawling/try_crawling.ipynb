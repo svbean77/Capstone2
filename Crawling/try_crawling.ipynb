{
 "cells": [
  {
   "cell_type": "markdown",
   "metadata": {},
   "source": [
    "## 필요 라이브러리 설치"
   ]
  },
  {
   "cell_type": "markdown",
   "metadata": {},
   "source": [
    "!pip install BeautifulSoup4"
   ]
  },
  {
   "cell_type": "markdown",
   "metadata": {},
   "source": [
    "!pip install pandas"
   ]
  },
  {
   "cell_type": "markdown",
   "metadata": {},
   "source": [
    "!pip install numpy"
   ]
  },
  {
   "cell_type": "markdown",
   "metadata": {},
   "source": [
    "## 기본 html 파싱"
   ]
  },
  {
   "cell_type": "code",
   "execution_count": 1,
   "metadata": {},
   "outputs": [],
   "source": [
    "import requests\n",
    "from bs4 import BeautifulSoup\n",
    "import numpy as np\n",
    "import pandas as pd"
   ]
  },
  {
   "cell_type": "code",
   "execution_count": 2,
   "metadata": {},
   "outputs": [],
   "source": [
    "res = requests.get('https://musclewiki.com/Directory')\n",
    "soup = BeautifulSoup(res.content, 'html.parser')\n",
    "\n",
    "lst = soup.find_all('tr')"
   ]
  },
  {
   "cell_type": "markdown",
   "metadata": {},
   "source": [
    "## 필요 데이터 추출"
   ]
  },
  {
   "cell_type": "code",
   "execution_count": 3,
   "metadata": {},
   "outputs": [],
   "source": [
    "muscle = []\n",
    "exercise = []\n",
    "equipment = []\n",
    "difficulty = []\n",
    "link = []\n",
    "\n",
    "for item in lst:\n",
    "    txt = [tmp for tmp in item.get_text().split('\\n') if tmp]\n",
    "    if 'Exercises' in item.get_text():\n",
    "        muscle.append(txt[0].strip()[:-10])\n",
    "        exercise.append([])\n",
    "        equipment.append([])\n",
    "        difficulty.append([])\n",
    "        link.append([])\n",
    "        \n",
    "    else:\n",
    "        exercise[-1].append(txt[0].strip())\n",
    "        equipment[-1].append(txt[-2].strip())\n",
    "        difficulty[-1].append(txt[-1].strip())\n",
    "        tmp = 'https://musclewiki.com' + item.find('a')['href']\n",
    "        link[-1].append(tmp)"
   ]
  },
  {
   "cell_type": "markdown",
   "metadata": {},
   "source": [
    "## 데이터프레임 생성"
   ]
  },
  {
   "cell_type": "code",
   "execution_count": 4,
   "metadata": {},
   "outputs": [],
   "source": [
    "df_lst = []\n",
    "\n",
    "for i in range(len(muscle)):\n",
    "    tmp_df = pd.DataFrame([exercise[i], equipment[i], difficulty[i], link[i]], \n",
    "                          index = ['exercise', 'equipment', 'difficulty', 'link']).transpose()\n",
    "    df_lst.append(tmp_df)"
   ]
  },
  {
   "cell_type": "markdown",
   "metadata": {},
   "source": [
    "## https://www.musclewiki.com + 이미지주소 하면 움짤 주소임!"
   ]
  },
  {
   "cell_type": "markdown",
   "metadata": {},
   "source": [
    "df = df_lst[0]\n",
    "a = df.loc[0, 'link']\n",
    "b = requests.get(a)\n",
    "s = BeautifulSoup(b.content, 'html.parser')\n",
    "s.find(class_ = 'exercise-images-grid').find('img')['src']"
   ]
  },
  {
   "cell_type": "markdown",
   "metadata": {},
   "source": [
    "a = df_lst[4]\n",
    "r = requests.get(a.loc[0, 'link'])\n",
    "s = BeautifulSoup(r.content, 'html.parser')\n",
    "s.get_text()"
   ]
  },
  {
   "cell_type": "markdown",
   "metadata": {},
   "source": [
    "for df in df_lst:\n",
    "    for i in range(len(df)):\n",
    "        tmp_link = df.loc[i, 'link']\n",
    "        tmp_res = requests.get(tmp_link)\n",
    "        tmp_soup = BeautifulSoup(tmp_res.content, 'html.parser')\n",
    "        \n",
    "        \n",
    "        if '404' in tmp_soup.get_text():\n",
    "            df.loc[i, 'img_link'] = '이미지 주소 오류'\n",
    "        else:\n",
    "\n",
    "            images = tmp_soup.find(class_ = 'exercise-images-grid').find_all('img')\n",
    "            print(i, len(images))\n",
    "    print()"
   ]
  },
  {
   "cell_type": "code",
   "execution_count": 25,
   "metadata": {},
   "outputs": [
    {
     "name": "stdout",
     "output_type": "stream",
     "text": [
      "1. While holding the upper arms stationary, curl the weights forward while contracting the biceps as you breathe out.\n",
      "2. Continue the movement until your biceps are fully contracted and the bar is at shoulder level.\n",
      "3. Hold the contracted position for a second and squeeze the biceps hard.\n",
      "4. Slowly bring the weight back down to the starting position.\n",
      "\n"
     ]
    },
    {
     "data": {
      "text/plain": [
       "'1. While holding the upper arms stationary, curl the weights forward while contracting the biceps as you breathe out.\\n2. Continue the movement until your biceps are fully contracted and the bar is at shoulder level.\\n3. Hold the contracted position for a second and squeeze the biceps hard.\\n4. Slowly bring the weight back down to the starting position.\\n'"
      ]
     },
     "execution_count": 25,
     "metadata": {},
     "output_type": "execute_result"
    }
   ],
   "source": [
    "a = df_lst[0].loc[0, 'link']\n",
    "r = requests.get(a)\n",
    "s = BeautifulSoup(r.content, 'html.parser')\n",
    "\n",
    "i = s.find(class_ = 'exercise-images-grid')\n",
    "i.find('a')['href']\n",
    "b = s.find(class_ = 'steps-list')\n",
    "t = [i for i in b.get_text().split('\\n') if i]\n",
    "g = \"\"\n",
    "for i in range(len(t)):\n",
    "    g = g + str(i + 1) + '. ' + t[i] + '\\n'\n",
    "    \n",
    "print(g)\n",
    "    \n",
    "tmp = df_lst[0]\n",
    "tmp.loc[0, 'step'] = g\n",
    "tmp.loc[0, 'step']"
   ]
  },
  {
   "cell_type": "code",
   "execution_count": 42,
   "metadata": {},
   "outputs": [],
   "source": [
    "for df in df_lst:\n",
    "    for i in range(len(df)):\n",
    "        link = df.loc[i, 'link']\n",
    "        tmp_res = requests.get(link)\n",
    "        tmp_soup = BeautifulSoup(tmp_res.content, 'html.parser')\n",
    "        \n",
    "        if '404' in tmp_soup.get_text():\n",
    "            df.loc[i, 'img_link'] = '이미지 주소 오류'\n",
    "        else:\n",
    "            image = tmp_soup.find(class_ = 'exercise-images-grid')\n",
    "            df.loc[i, 'img_link'] = 'https://www.musclewiki.com' + image.find('img')['src']\n",
    "            df.loc[i, 'video_link'] = image.find('a')['href']\n",
    "            \n",
    "            step_parse = tmp_soup.find(class_ = 'steps-list')\n",
    "            step_lst = [item for item in step_parse.get_text().split('\\n') if item]\n",
    "            step = \"\"\n",
    "            for j in range(len(step_lst)):\n",
    "                step = step + str(j + 1) + '. ' + step_lst[j] + \"\\n\"\n",
    "            df.loc[i, 'step'] = step"
   ]
  },
  {
   "cell_type": "markdown",
   "metadata": {},
   "source": [
    "df = df_lst[14]\n",
    "len(df.loc[df['difficulty'] == 'Beginner']) + len(df.loc[df['difficulty'] != 'Beginner'])"
   ]
  },
  {
   "cell_type": "markdown",
   "metadata": {},
   "source": [
    "df_lst[0].iloc[0]['link']\n",
    "df_lst[0].loc[0, 'img_front'] = 'hello'\n",
    "df_lst[0].loc[0, 'img_side'] = 'world'\n",
    "df_lst[0]"
   ]
  },
  {
   "cell_type": "code",
   "execution_count": 46,
   "metadata": {},
   "outputs": [
    {
     "data": {
      "text/plain": [
       "'1. Raise your arms to shoulder height, fully extended in front of you.\\n2. Slowly bring your arms behind your back still at shoulder height.\\n3. Pause for a few seconds and then return to starting position.\\n'"
      ]
     },
     "execution_count": 46,
     "metadata": {},
     "output_type": "execute_result"
    }
   ],
   "source": [
    "df_lst[1].loc[10, 'step']"
   ]
  },
  {
   "cell_type": "code",
   "execution_count": 47,
   "metadata": {},
   "outputs": [],
   "source": [
    "beginner = []\n",
    "master = []\n",
    "\n",
    "for df in df_lst:\n",
    "    beginner.append(df.loc[df['difficulty'] == 'Beginner'])\n",
    "    master.append(df.loc[df['difficulty'] != 'Beginner'])"
   ]
  },
  {
   "cell_type": "code",
   "execution_count": 49,
   "metadata": {},
   "outputs": [],
   "source": [
    "for i in range(len(df)):\n",
    "    b_filename = \"eng_Beginner_\" + muscle[i]\n",
    "    m_filename = \"eng_Master_\"+ muscle[i]\n",
    "    \n",
    "    b_df = beginner[i].loc[beginner[i]['difficulty'] == 'Beginner']\n",
    "    m_df = master[i].loc[master[i]['difficulty'] != 'Beginner']\n",
    "    \n",
    "    b_df.to_csv('data/' + b_filename + '.csv', index = False)\n",
    "    m_df.to_csv('data/' + m_filename + '.csv', index = False)"
   ]
  },
  {
   "cell_type": "code",
   "execution_count": 50,
   "metadata": {},
   "outputs": [
    {
     "data": {
      "text/html": [
       "<div>\n",
       "<style scoped>\n",
       "    .dataframe tbody tr th:only-of-type {\n",
       "        vertical-align: middle;\n",
       "    }\n",
       "\n",
       "    .dataframe tbody tr th {\n",
       "        vertical-align: top;\n",
       "    }\n",
       "\n",
       "    .dataframe thead th {\n",
       "        text-align: right;\n",
       "    }\n",
       "</style>\n",
       "<table border=\"1\" class=\"dataframe\">\n",
       "  <thead>\n",
       "    <tr style=\"text-align: right;\">\n",
       "      <th></th>\n",
       "      <th>exercise</th>\n",
       "      <th>equipment</th>\n",
       "      <th>difficulty</th>\n",
       "      <th>link</th>\n",
       "      <th>step</th>\n",
       "      <th>img_link</th>\n",
       "      <th>video_link</th>\n",
       "    </tr>\n",
       "  </thead>\n",
       "  <tbody>\n",
       "    <tr>\n",
       "      <th>0</th>\n",
       "      <td>Barbell Curl</td>\n",
       "      <td>Barbell</td>\n",
       "      <td>Beginner</td>\n",
       "      <td>https://musclewiki.com/Barbell/Male/Biceps/Bar...</td>\n",
       "      <td>1. While holding the upper arms stationary, cu...</td>\n",
       "      <td>https://www.musclewiki.com/media/uploads/male-...</td>\n",
       "      <td>https://youtu.be/0mylYdVWBf0</td>\n",
       "    </tr>\n",
       "    <tr>\n",
       "      <th>1</th>\n",
       "      <td>Dumbbell Curl</td>\n",
       "      <td>Dumbbells</td>\n",
       "      <td>Beginner</td>\n",
       "      <td>https://musclewiki.com/Dumbbells/Male/Biceps/D...</td>\n",
       "      <td>1. Stand up straight with a dumbbell in each h...</td>\n",
       "      <td>https://www.musclewiki.com/media/uploads/male-...</td>\n",
       "      <td>https://youtu.be/EU4HlSIpj5Y</td>\n",
       "    </tr>\n",
       "    <tr>\n",
       "      <th>2</th>\n",
       "      <td>Dumbbell Hammer Curl</td>\n",
       "      <td>Dumbbells</td>\n",
       "      <td>Beginner</td>\n",
       "      <td>https://musclewiki.com/Dumbbells/Male/Biceps/D...</td>\n",
       "      <td>1. Hold the dumbbells with a neutral grip (thu...</td>\n",
       "      <td>https://www.musclewiki.com/media/uploads/male-...</td>\n",
       "      <td>https://youtu.be/Dh3_gou_3TE</td>\n",
       "    </tr>\n",
       "    <tr>\n",
       "      <th>3</th>\n",
       "      <td>Goblet Curl</td>\n",
       "      <td>Kettlebells</td>\n",
       "      <td>Beginner</td>\n",
       "      <td>https://musclewiki.com/Kettlebells/Male/Biceps...</td>\n",
       "      <td>1. Stand up straight with a kettlebell in both...</td>\n",
       "      <td>https://www.musclewiki.com/media/uploads/male-...</td>\n",
       "      <td>https://youtu.be/oYmItLMNFg0</td>\n",
       "    </tr>\n",
       "    <tr>\n",
       "      <th>6</th>\n",
       "      <td>Single Arm Curl</td>\n",
       "      <td>Kettlebells</td>\n",
       "      <td>Beginner</td>\n",
       "      <td>https://musclewiki.com/Kettlebells/Male/Biceps...</td>\n",
       "      <td>1. Stand up straight with a kettlebell in one ...</td>\n",
       "      <td>https://www.musclewiki.com/media/uploads/male-...</td>\n",
       "      <td>https://youtu.be/jiheWHzzIJ4</td>\n",
       "    </tr>\n",
       "    <tr>\n",
       "      <th>7</th>\n",
       "      <td>Biceps Stretch Variation Five</td>\n",
       "      <td>Stretches</td>\n",
       "      <td>Beginner</td>\n",
       "      <td>https://musclewiki.com/Stretches/Male/Biceps/B...</td>\n",
       "      <td>1. Stand upright with your feet shoulder width...</td>\n",
       "      <td>https://www.musclewiki.com/media/uploads/male-...</td>\n",
       "      <td>https://www.youtube.com/watch?v=7jXK9pNJdJg%7C</td>\n",
       "    </tr>\n",
       "    <tr>\n",
       "      <th>8</th>\n",
       "      <td>Biceps Stretch Variation Four</td>\n",
       "      <td>Stretches</td>\n",
       "      <td>Beginner</td>\n",
       "      <td>https://musclewiki.com/Stretches/Male/Biceps/B...</td>\n",
       "      <td>1. Stand an arms width away from the wall.\\n2....</td>\n",
       "      <td>https://www.musclewiki.com/media/uploads/male-...</td>\n",
       "      <td>https://www.youtube.com/watch?v=IRxy-WjmBRs%7C</td>\n",
       "    </tr>\n",
       "    <tr>\n",
       "      <th>9</th>\n",
       "      <td>Biceps Stretch Variation Three</td>\n",
       "      <td>Stretches</td>\n",
       "      <td>Beginner</td>\n",
       "      <td>https://musclewiki.com/Stretches/Male/Biceps/B...</td>\n",
       "      <td>1. Bend your arm at the elbow, raising your ha...</td>\n",
       "      <td>https://www.musclewiki.com/media/uploads/male-...</td>\n",
       "      <td>https://www.youtube.com/watch?v=koCz9-ZVjRg%7C</td>\n",
       "    </tr>\n",
       "    <tr>\n",
       "      <th>10</th>\n",
       "      <td>Biceps Stretch Variation Two</td>\n",
       "      <td>Stretches</td>\n",
       "      <td>Beginner</td>\n",
       "      <td>https://musclewiki.com/Stretches/Male/Biceps/B...</td>\n",
       "      <td>1. Stand facing the wall, an arm's width away....</td>\n",
       "      <td>https://www.musclewiki.com/media/uploads/male-...</td>\n",
       "      <td>https://www.youtube.com/watch?v=_qFHL-DoHG8%7C</td>\n",
       "    </tr>\n",
       "    <tr>\n",
       "      <th>11</th>\n",
       "      <td>Biceps Stretch Variation One</td>\n",
       "      <td>Stretches</td>\n",
       "      <td>Beginner</td>\n",
       "      <td>https://musclewiki.com/Stretches/Male/Biceps/B...</td>\n",
       "      <td>1. Stand one foot in front of the other with t...</td>\n",
       "      <td>https://www.musclewiki.com/media/uploads/male-...</td>\n",
       "      <td>https://youtu.be/KPMttUk2xM8</td>\n",
       "    </tr>\n",
       "    <tr>\n",
       "      <th>12</th>\n",
       "      <td>Inverted Row</td>\n",
       "      <td>Bodyweight</td>\n",
       "      <td>Beginner</td>\n",
       "      <td>https://musclewiki.com/Bodyweight/Male/Biceps/...</td>\n",
       "      <td>1. Lay underneath a fixed horizontal bar and g...</td>\n",
       "      <td>https://www.musclewiki.com/media/uploads/bodyw...</td>\n",
       "      <td>https://youtu.be/EuT4-4OFySE</td>\n",
       "    </tr>\n",
       "    <tr>\n",
       "      <th>15</th>\n",
       "      <td>Bayesian Curl</td>\n",
       "      <td>Cables</td>\n",
       "      <td>Beginner</td>\n",
       "      <td>https://musclewiki.com/Cables/Male/Biceps/Baye...</td>\n",
       "      <td>1. Use a handle attachment. The cable should b...</td>\n",
       "      <td>https://www.musclewiki.com/media/uploads/male-...</td>\n",
       "      <td>https://youtu.be/VlACMxVsaF8</td>\n",
       "    </tr>\n",
       "    <tr>\n",
       "      <th>17</th>\n",
       "      <td>Cable Hammer Curl</td>\n",
       "      <td>Cables</td>\n",
       "      <td>Beginner</td>\n",
       "      <td>https://musclewiki.com/Cables/Male/Biceps/Cabl...</td>\n",
       "      <td>1. Use a handle attachment. The cable should b...</td>\n",
       "      <td>https://www.musclewiki.com/media/uploads/male-...</td>\n",
       "      <td>https://youtu.be/tOxNeSx_P70</td>\n",
       "    </tr>\n",
       "    <tr>\n",
       "      <th>18</th>\n",
       "      <td>Curl</td>\n",
       "      <td>Band</td>\n",
       "      <td>Beginner</td>\n",
       "      <td>https://musclewiki.com/Band/Male/Biceps/Curl</td>\n",
       "      <td>1. Attach band to a low anchor point. Point yo...</td>\n",
       "      <td>https://www.musclewiki.com/media/uploads/male-...</td>\n",
       "      <td>https://youtu.be/7f1kaMkOdk4</td>\n",
       "    </tr>\n",
       "    <tr>\n",
       "      <th>20</th>\n",
       "      <td>Kneeling Single Arm Pulldown</td>\n",
       "      <td>Band</td>\n",
       "      <td>Beginner</td>\n",
       "      <td>https://musclewiki.com/Band/Male/Biceps/Kneeli...</td>\n",
       "      <td>1. Place the band at about eye level. Fall int...</td>\n",
       "      <td>https://www.musclewiki.com/media/uploads/male-...</td>\n",
       "      <td>https://youtu.be/2bA1aTxHm5U</td>\n",
       "    </tr>\n",
       "    <tr>\n",
       "      <th>23</th>\n",
       "      <td>Dumbbell Row Unilateral</td>\n",
       "      <td>Dumbbells</td>\n",
       "      <td>Beginner</td>\n",
       "      <td>https://musclewiki.com/Dumbbells/Male/Biceps/D...</td>\n",
       "      <td>1. Brace your off arm against something stable...</td>\n",
       "      <td>https://www.musclewiki.com/media/uploads/male-...</td>\n",
       "      <td>https://youtu.be/P8lNvP8SsQk</td>\n",
       "    </tr>\n",
       "  </tbody>\n",
       "</table>\n",
       "</div>"
      ],
      "text/plain": [
       "                          exercise    equipment difficulty  \\\n",
       "0                     Barbell Curl      Barbell   Beginner   \n",
       "1                    Dumbbell Curl    Dumbbells   Beginner   \n",
       "2             Dumbbell Hammer Curl    Dumbbells   Beginner   \n",
       "3                      Goblet Curl  Kettlebells   Beginner   \n",
       "6                  Single Arm Curl  Kettlebells   Beginner   \n",
       "7    Biceps Stretch Variation Five    Stretches   Beginner   \n",
       "8    Biceps Stretch Variation Four    Stretches   Beginner   \n",
       "9   Biceps Stretch Variation Three    Stretches   Beginner   \n",
       "10    Biceps Stretch Variation Two    Stretches   Beginner   \n",
       "11    Biceps Stretch Variation One    Stretches   Beginner   \n",
       "12                    Inverted Row   Bodyweight   Beginner   \n",
       "15                   Bayesian Curl       Cables   Beginner   \n",
       "17               Cable Hammer Curl       Cables   Beginner   \n",
       "18                            Curl         Band   Beginner   \n",
       "20    Kneeling Single Arm Pulldown         Band   Beginner   \n",
       "23         Dumbbell Row Unilateral    Dumbbells   Beginner   \n",
       "\n",
       "                                                 link  \\\n",
       "0   https://musclewiki.com/Barbell/Male/Biceps/Bar...   \n",
       "1   https://musclewiki.com/Dumbbells/Male/Biceps/D...   \n",
       "2   https://musclewiki.com/Dumbbells/Male/Biceps/D...   \n",
       "3   https://musclewiki.com/Kettlebells/Male/Biceps...   \n",
       "6   https://musclewiki.com/Kettlebells/Male/Biceps...   \n",
       "7   https://musclewiki.com/Stretches/Male/Biceps/B...   \n",
       "8   https://musclewiki.com/Stretches/Male/Biceps/B...   \n",
       "9   https://musclewiki.com/Stretches/Male/Biceps/B...   \n",
       "10  https://musclewiki.com/Stretches/Male/Biceps/B...   \n",
       "11  https://musclewiki.com/Stretches/Male/Biceps/B...   \n",
       "12  https://musclewiki.com/Bodyweight/Male/Biceps/...   \n",
       "15  https://musclewiki.com/Cables/Male/Biceps/Baye...   \n",
       "17  https://musclewiki.com/Cables/Male/Biceps/Cabl...   \n",
       "18       https://musclewiki.com/Band/Male/Biceps/Curl   \n",
       "20  https://musclewiki.com/Band/Male/Biceps/Kneeli...   \n",
       "23  https://musclewiki.com/Dumbbells/Male/Biceps/D...   \n",
       "\n",
       "                                                 step  \\\n",
       "0   1. While holding the upper arms stationary, cu...   \n",
       "1   1. Stand up straight with a dumbbell in each h...   \n",
       "2   1. Hold the dumbbells with a neutral grip (thu...   \n",
       "3   1. Stand up straight with a kettlebell in both...   \n",
       "6   1. Stand up straight with a kettlebell in one ...   \n",
       "7   1. Stand upright with your feet shoulder width...   \n",
       "8   1. Stand an arms width away from the wall.\\n2....   \n",
       "9   1. Bend your arm at the elbow, raising your ha...   \n",
       "10  1. Stand facing the wall, an arm's width away....   \n",
       "11  1. Stand one foot in front of the other with t...   \n",
       "12  1. Lay underneath a fixed horizontal bar and g...   \n",
       "15  1. Use a handle attachment. The cable should b...   \n",
       "17  1. Use a handle attachment. The cable should b...   \n",
       "18  1. Attach band to a low anchor point. Point yo...   \n",
       "20  1. Place the band at about eye level. Fall int...   \n",
       "23  1. Brace your off arm against something stable...   \n",
       "\n",
       "                                             img_link  \\\n",
       "0   https://www.musclewiki.com/media/uploads/male-...   \n",
       "1   https://www.musclewiki.com/media/uploads/male-...   \n",
       "2   https://www.musclewiki.com/media/uploads/male-...   \n",
       "3   https://www.musclewiki.com/media/uploads/male-...   \n",
       "6   https://www.musclewiki.com/media/uploads/male-...   \n",
       "7   https://www.musclewiki.com/media/uploads/male-...   \n",
       "8   https://www.musclewiki.com/media/uploads/male-...   \n",
       "9   https://www.musclewiki.com/media/uploads/male-...   \n",
       "10  https://www.musclewiki.com/media/uploads/male-...   \n",
       "11  https://www.musclewiki.com/media/uploads/male-...   \n",
       "12  https://www.musclewiki.com/media/uploads/bodyw...   \n",
       "15  https://www.musclewiki.com/media/uploads/male-...   \n",
       "17  https://www.musclewiki.com/media/uploads/male-...   \n",
       "18  https://www.musclewiki.com/media/uploads/male-...   \n",
       "20  https://www.musclewiki.com/media/uploads/male-...   \n",
       "23  https://www.musclewiki.com/media/uploads/male-...   \n",
       "\n",
       "                                        video_link  \n",
       "0                     https://youtu.be/0mylYdVWBf0  \n",
       "1                     https://youtu.be/EU4HlSIpj5Y  \n",
       "2                     https://youtu.be/Dh3_gou_3TE  \n",
       "3                     https://youtu.be/oYmItLMNFg0  \n",
       "6                     https://youtu.be/jiheWHzzIJ4  \n",
       "7   https://www.youtube.com/watch?v=7jXK9pNJdJg%7C  \n",
       "8   https://www.youtube.com/watch?v=IRxy-WjmBRs%7C  \n",
       "9   https://www.youtube.com/watch?v=koCz9-ZVjRg%7C  \n",
       "10  https://www.youtube.com/watch?v=_qFHL-DoHG8%7C  \n",
       "11                    https://youtu.be/KPMttUk2xM8  \n",
       "12                    https://youtu.be/EuT4-4OFySE  \n",
       "15                    https://youtu.be/VlACMxVsaF8  \n",
       "17                    https://youtu.be/tOxNeSx_P70  \n",
       "18                    https://youtu.be/7f1kaMkOdk4  \n",
       "20                    https://youtu.be/2bA1aTxHm5U  \n",
       "23                    https://youtu.be/P8lNvP8SsQk  "
      ]
     },
     "execution_count": 50,
     "metadata": {},
     "output_type": "execute_result"
    }
   ],
   "source": [
    "beginner[0]"
   ]
  },
  {
   "cell_type": "code",
   "execution_count": null,
   "metadata": {},
   "outputs": [],
   "source": []
  },
  {
   "cell_type": "code",
   "execution_count": null,
   "metadata": {},
   "outputs": [],
   "source": []
  },
  {
   "cell_type": "markdown",
   "metadata": {},
   "source": [
    "## 난이도로 구분\n",
    "- 추후 그룹화를 통해 기구 구분하여 각각 저장"
   ]
  },
  {
   "cell_type": "code",
   "execution_count": 30,
   "metadata": {},
   "outputs": [],
   "source": [
    "beginner_lst = []\n",
    "senior_lst = []\n",
    "\n"
   ]
  }
 ],
 "metadata": {
  "kernelspec": {
   "display_name": "Python 3 (ipykernel)",
   "language": "python",
   "name": "python3"
  },
  "language_info": {
   "codemirror_mode": {
    "name": "ipython",
    "version": 3
   },
   "file_extension": ".py",
   "mimetype": "text/x-python",
   "name": "python",
   "nbconvert_exporter": "python",
   "pygments_lexer": "ipython3",
   "version": "3.9.12"
  }
 },
 "nbformat": 4,
 "nbformat_minor": 2
}
