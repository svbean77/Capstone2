{
 "cells": [
  {
   "cell_type": "code",
   "execution_count": 1,
   "id": "2a64b1d5",
   "metadata": {},
   "outputs": [],
   "source": [
    "import pandas as pd"
   ]
  },
  {
   "cell_type": "code",
   "execution_count": 11,
   "id": "25bfb3f3",
   "metadata": {
    "scrolled": true
   },
   "outputs": [
    {
     "data": {
      "text/plain": [
       "0        초보자\n",
       "1        초보자\n",
       "2        초보자\n",
       "3        초보자\n",
       "4        중급자\n",
       "       ...  \n",
       "389     초보자 \n",
       "390     초보자 \n",
       "391     초보자 \n",
       "392     초보자 \n",
       "393     중급자 \n",
       "Name: difficulty, Length: 394, dtype: object"
      ]
     },
     "execution_count": 11,
     "metadata": {},
     "output_type": "execute_result"
    }
   ],
   "source": [
    "data = pd.read_csv('exercise_data_correct.csv', encoding = 'utf-8-sig')\n",
    "data['difficulty']"
   ]
  },
  {
   "cell_type": "code",
   "execution_count": 12,
   "id": "001af1a1",
   "metadata": {},
   "outputs": [],
   "source": [
    "for i in range(len(data)):\n",
    "    data.iloc[i, 0] = data.iloc[i, 0].strip()\n",
    "    data.iloc[i, 1] = data.iloc[i, 1].strip()\n",
    "    data.iloc[i, 2] = data.iloc[i, 2].strip()\n",
    "    data.iloc[i, 3] = data.iloc[i, 3].strip()\n",
    "    data.iloc[i, 4] = data.iloc[i, 4].strip()\n",
    "    data.iloc[i, 5] = data.iloc[i, 5].strip()\n",
    "    data.iloc[i, 6] = data.iloc[i, 6].strip()\n",
    "    data.iloc[i, 7] = data.iloc[i, 7].strip()"
   ]
  },
  {
   "cell_type": "code",
   "execution_count": 13,
   "id": "eec32e09",
   "metadata": {},
   "outputs": [
    {
     "data": {
      "text/plain": [
       "0      초보자\n",
       "1      초보자\n",
       "2      초보자\n",
       "3      초보자\n",
       "4      중급자\n",
       "      ... \n",
       "389    초보자\n",
       "390    초보자\n",
       "391    초보자\n",
       "392    초보자\n",
       "393    중급자\n",
       "Name: difficulty, Length: 394, dtype: object"
      ]
     },
     "execution_count": 13,
     "metadata": {},
     "output_type": "execute_result"
    }
   ],
   "source": [
    "data['difficulty']"
   ]
  },
  {
   "cell_type": "code",
   "execution_count": 15,
   "id": "0e4e254a",
   "metadata": {},
   "outputs": [],
   "source": [
    "data.to_csv('exercise_data_strip.csv', encoding = 'utf-8-sig', index = False)"
   ]
  }
 ],
 "metadata": {
  "kernelspec": {
   "display_name": "Python 3 (ipykernel)",
   "language": "python",
   "name": "python3"
  },
  "language_info": {
   "codemirror_mode": {
    "name": "ipython",
    "version": 3
   },
   "file_extension": ".py",
   "mimetype": "text/x-python",
   "name": "python",
   "nbconvert_exporter": "python",
   "pygments_lexer": "ipython3",
   "version": "3.9.12"
  }
 },
 "nbformat": 4,
 "nbformat_minor": 5
}
