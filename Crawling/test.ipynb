{
 "cells": [
  {
   "cell_type": "markdown",
   "metadata": {},
   "source": [
    "!pip install BeautifulSoup4"
   ]
  },
  {
   "cell_type": "code",
   "execution_count": null,
   "metadata": {},
   "outputs": [],
   "source": [
    "import requests\n",
    "from bs4 import BeautifulSoup\n",
    "import numpy as np\n",
    "import pandas as pd"
   ]
  },
  {
   "cell_type": "code",
   "execution_count": 14,
   "metadata": {},
   "outputs": [
    {
     "name": "stdout",
     "output_type": "stream",
     "text": [
      "MuscleWiki\n"
     ]
    }
   ],
   "source": [
    "res = requests.get('https://musclewiki.com/Directory')\n",
    "\n",
    "soup = BeautifulSoup(res.content, 'html.parser')\n",
    "title = soup.find('title')\n",
    "\n",
    "print(title.get_text())"
   ]
  },
  {
   "cell_type": "markdown",
   "metadata": {},
   "source": [
    "a = soup.find_all(class_ = 'mw-headline')\n",
    "\n",
    "muscle = []\n",
    "for item in a:\n",
    "    muscle.append(item.get_text())\n",
    "\n",
    "#print(muscle)"
   ]
  },
  {
   "cell_type": "markdown",
   "metadata": {},
   "source": [
    "b = soup.find_all(class_ = 'clickablecell')\n",
    "#print(b)"
   ]
  },
  {
   "cell_type": "code",
   "execution_count": 87,
   "metadata": {},
   "outputs": [
    {
     "name": "stdout",
     "output_type": "stream",
     "text": [
      "['Biceps', 'Exercises', 'Video', 'Equipment', 'Difficulty']\n",
      "['Barbell Curl', 'Male', '/', 'Female', ' Barbell ', ' Beginner ']\n",
      "['Leg Raises', 'Female', ' Bodyweight ', ' Intermediate ']\n",
      "['Biceps Stretch Variation Three', 'Male', '/', 'Female', ' Stretches ', ' Beginner ']\n"
     ]
    }
   ],
   "source": [
    "data = []\n",
    "\n",
    "c = soup.find_all('tr')\n",
    "#print(c[0])\n",
    "#print(c[1])\n",
    "\n",
    "# https://musclewiki.com/ + href 하면 주소 나옴!\n",
    "print(c[0].get_text().split())\n",
    "print([item for item in c[1].get_text().split('\\n') if item])\n",
    "print([item for item in c[-1].get_text().split('\\n') if item])\n",
    "print([item for item in c[10].get_text().split('\\n') if item])\n",
    "\n",
    "data = []\n",
    "\n",
    "for item in c:\n",
    "    lst = [tmp for tmp in item.get_text().split('\\n') if tmp]\n",
    "    \n",
    "    "
   ]
  },
  {
   "cell_type": "code",
   "execution_count": 100,
   "metadata": {},
   "outputs": [
    {
     "name": "stdout",
     "output_type": "stream",
     "text": [
      "/Bodyweight/Female/Abdominals/Leg-Raises\n"
     ]
    }
   ],
   "source": [
    "print(c[-1].find(class_ = 'clickablecell').find('a')['href'])"
   ]
  },
  {
   "cell_type": "code",
   "execution_count": 115,
   "metadata": {},
   "outputs": [
    {
     "data": {
      "text/plain": [
       "['',\n",
       " '',\n",
       " 'Barbell Curl',\n",
       " '',\n",
       " '',\n",
       " 'Male',\n",
       " '',\n",
       " '/',\n",
       " 'Female',\n",
       " '',\n",
       " ' Barbell ',\n",
       " ' Beginner ',\n",
       " '']"
      ]
     },
     "execution_count": 115,
     "metadata": {},
     "output_type": "execute_result"
    }
   ],
   "source": [
    "c[1].get_text().split('\\n')"
   ]
  },
  {
   "cell_type": "code",
   "execution_count": 130,
   "metadata": {},
   "outputs": [
    {
     "data": {
      "text/plain": [
       "<tr>\n",
       "<td> <b>Chest Exercises</b> </td>\n",
       "<td> <b>Video</b> </td>\n",
       "<td> <b>Equipment</b> </td>\n",
       "<td> <b>Difficulty</b> </td>\n",
       "</tr>"
      ]
     },
     "execution_count": 130,
     "metadata": {},
     "output_type": "execute_result"
    }
   ],
   "source": [
    "c[26]"
   ]
  },
  {
   "cell_type": "code",
   "execution_count": 132,
   "metadata": {
    "scrolled": true
   },
   "outputs": [
    {
     "name": "stdout",
     "output_type": "stream",
     "text": [
      "\n",
      " Biceps Exercises \n",
      " Video \n",
      " Equipment \n",
      " Difficulty \n",
      "\n",
      "0\n",
      "\n",
      " Chest Exercises \n",
      " Video \n",
      " Equipment \n",
      " Difficulty \n",
      "\n",
      "26\n",
      "\n",
      " Quads Exercises \n",
      " Video \n",
      " Equipment \n",
      " Difficulty \n",
      "\n",
      "52\n",
      "\n",
      " Traps Exercises \n",
      " Video \n",
      " Equipment \n",
      " Difficulty \n",
      "\n",
      "88\n",
      "\n",
      " Triceps Exercises \n",
      " Video \n",
      " Equipment \n",
      " Difficulty \n",
      "\n",
      "109\n",
      "\n",
      " Shoulders Exercises \n",
      " Video \n",
      " Equipment \n",
      " Difficulty \n",
      "\n",
      "140\n",
      "\n",
      " Lats Exercises \n",
      " Video \n",
      " Equipment \n",
      " Difficulty \n",
      "\n",
      "174\n",
      "\n",
      " Hamstrings Exercises \n",
      " Video \n",
      " Equipment \n",
      " Difficulty \n",
      "\n",
      "195\n",
      "\n",
      " Glutes Exercises \n",
      " Video \n",
      " Equipment \n",
      " Difficulty \n",
      "\n",
      "227\n",
      "\n",
      " Forearms Exercises \n",
      " Video \n",
      " Equipment \n",
      " Difficulty \n",
      "\n",
      "276\n",
      "\n",
      " Calves Exercises \n",
      " Video \n",
      " Equipment \n",
      " Difficulty \n",
      "\n",
      "299\n",
      "\n",
      " Abdominals Exercises \n",
      " Video \n",
      " Equipment \n",
      " Difficulty \n",
      "\n",
      "315\n",
      "\n",
      " Lower back Exercises \n",
      " Video \n",
      " Equipment \n",
      " Difficulty \n",
      "\n",
      "344\n",
      "\n",
      " Traps (mid-back) Exercises \n",
      " Video \n",
      " Equipment \n",
      " Difficulty \n",
      "\n",
      "375\n",
      "\n",
      " Obliques Exercises \n",
      " Video \n",
      " Equipment \n",
      " Difficulty \n",
      "\n",
      "395\n"
     ]
    }
   ],
   "source": [
    "for i in range(len(c)):\n",
    "    txt = c[i].get_text()\n",
    "    if 'Exercises' in txt:\n",
    "        print(txt)\n",
    "        print(i)"
   ]
  },
  {
   "cell_type": "code",
   "execution_count": 133,
   "metadata": {},
   "outputs": [
    {
     "data": {
      "text/plain": [
       "'Lower back'"
      ]
     },
     "execution_count": 133,
     "metadata": {},
     "output_type": "execute_result"
    }
   ],
   "source": [
    "c[344].get_text().split('\\n')[1].strip()[:-10]"
   ]
  },
  {
   "cell_type": "code",
   "execution_count": 99,
   "metadata": {},
   "outputs": [
    {
     "name": "stdout",
     "output_type": "stream",
     "text": [
      "<td class=\"clickablecell\">\n",
      "<a class=\"external text\" href=\"/Barbell/Male/Biceps/Barbell-Curl\" rel=\"nofollow\">Barbell Curl</a>\n",
      "</td>\n",
      "/Bodyweight/Female/Abdominals/Leg-Raises\n"
     ]
    }
   ],
   "source": [
    "d = soup.find_all(class_ = 'clickablecell')\n",
    "print(d[0])\n",
    "print(d[-1].find('a')['href'])"
   ]
  },
  {
   "cell_type": "code",
   "execution_count": 102,
   "metadata": {},
   "outputs": [],
   "source": [
    "import requests\n",
    "from bs4 import BeautifulSoup\n",
    "import numpy as np\n",
    "import pandas as pd"
   ]
  },
  {
   "cell_type": "code",
   "execution_count": 103,
   "metadata": {},
   "outputs": [],
   "source": [
    "res = requests.get('https://musclewiki.com/Directory')\n",
    "soup = BeautifulSoup(res.content, 'html.parser')\n",
    "\n",
    "lst = soup.find_all('tr')"
   ]
  },
  {
   "cell_type": "code",
   "execution_count": 159,
   "metadata": {},
   "outputs": [],
   "source": [
    "muscle = []\n",
    "exercise = []\n",
    "equipment = []\n",
    "difficulty = []\n",
    "link = []\n",
    "\n",
    "for item in lst:\n",
    "    txt = [tmp for tmp in item.get_text().split('\\n') if tmp]\n",
    "    if 'Exercises' in item.get_text():\n",
    "        #name = txt[0].strip()[:-10]\n",
    "        muscle.append(txt[0].strip()[:-10])\n",
    "        exercise.append([])\n",
    "        equipment.append([])\n",
    "        difficulty.append([])\n",
    "        link.append([])\n",
    "        \n",
    "    else:\n",
    "        exercise[-1].append(txt[0])\n",
    "        equipment[-1].append(txt[-2])\n",
    "        difficulty[-1].append(txt[-1])\n",
    "        tmp = 'https://musclewiki.com' + item.find('a')['href']\n",
    "        link[-1].append(tmp)"
   ]
  },
  {
   "cell_type": "code",
   "execution_count": 160,
   "metadata": {},
   "outputs": [
    {
     "name": "stdout",
     "output_type": "stream",
     "text": [
      "Biceps : 25 25 25 25\n",
      "Chest : 25 25 25 25\n",
      "Quads : 35 35 35 35\n",
      "Traps : 20 20 20 20\n",
      "Triceps : 30 30 30 30\n",
      "Shoulders : 33 33 33 33\n",
      "Lats : 20 20 20 20\n",
      "Hamstrings : 31 31 31 31\n",
      "Glutes : 48 48 48 48\n",
      "Forearms : 22 22 22 22\n",
      "Calves : 15 15 15 15\n",
      "Abdominals : 28 28 28 28\n",
      "Lower back : 30 30 30 30\n",
      "Traps (mid-back) : 19 19 19 19\n",
      "Obliques : 13 13 13 13\n"
     ]
    }
   ],
   "source": [
    "for i in range(15):\n",
    "    print(muscle[i], ':', end = ' ')\n",
    "    print(len(exercise[i]), len(equipment[i]), len(difficulty[i]), len(link[i]))"
   ]
  },
  {
   "cell_type": "code",
   "execution_count": 164,
   "metadata": {},
   "outputs": [
    {
     "name": "stdout",
     "output_type": "stream",
     "text": [
      "https://musclewiki.com/Dumbbells/Male/Biceps/Dumbbell-Hammer-Curl\n"
     ]
    }
   ],
   "source": [
    "print(link[0][2])"
   ]
  },
  {
   "cell_type": "code",
   "execution_count": 112,
   "metadata": {},
   "outputs": [
    {
     "name": "stdout",
     "output_type": "stream",
     "text": [
      "\n",
      "있다! @  @  @  @  @  @  @  @  @  @  @  @  @  @  @  @  @  @  @  @  @  @  @  @  @  \n",
      "있다! @  @  @  @  @  @  @  @  @  @  @  @  @  @  @  @  @  @  @  @  @  @  @  @  @  \n",
      "있다! @  @  @  @  @  @  @  @  @  @  @  @  @  @  @  @  @  @  @  @  @  @  @  @  @  @  @  @  @  @  @  @  @  @  @  \n",
      "있다! @  @  @  @  @  @  @  @  @  @  @  @  @  @  @  @  @  @  @  @  \n",
      "있다! @  @  @  @  @  @  @  @  @  @  @  @  @  @  @  @  @  @  @  @  @  @  @  @  @  @  @  @  @  @  \n",
      "있다! @  @  @  @  @  @  @  @  @  @  @  @  @  @  @  @  @  @  @  @  @  @  @  @  @  @  @  @  @  @  @  @  @  \n",
      "있다! @  @  @  @  @  @  @  @  @  @  @  @  @  @  @  @  @  @  @  @  \n",
      "있다! @  @  @  @  @  @  @  @  @  @  @  @  @  @  @  @  @  @  @  @  @  @  @  @  @  @  @  @  @  @  @  \n",
      "있다! @  @  @  @  @  @  @  @  @  @  @  @  @  @  @  @  @  @  @  @  @  @  @  @  @  @  @  @  @  @  @  @  @  @  @  @  @  @  @  @  @  @  @  @  @  @  @  @  \n",
      "있다! @  @  @  @  @  @  @  @  @  @  @  @  @  @  @  @  @  @  @  @  @  @  \n",
      "있다! @  @  @  @  @  @  @  @  @  @  @  @  @  @  @  \n",
      "있다! @  @  @  @  @  @  @  @  @  @  @  @  @  @  @  @  @  @  @  @  @  @  @  @  @  @  @  @  \n",
      "있다! @  @  @  @  @  @  @  @  @  @  @  @  @  @  @  @  @  @  @  @  @  @  @  @  @  @  @  @  @  @  \n",
      "있다! @  @  @  @  @  @  @  @  @  @  @  @  @  @  @  @  @  @  @  \n",
      "있다! @  @  @  @  @  @  @  @  @  @  @  @  @  "
     ]
    }
   ],
   "source": [
    "for a in lst:\n",
    "    if 'Exercises' in a.get_text():\n",
    "        print('\\n있다!', end = ' ')\n",
    "    else:\n",
    "        print('@', end = '  ')"
   ]
  }
 ],
 "metadata": {
  "kernelspec": {
   "display_name": "Python 3 (ipykernel)",
   "language": "python",
   "name": "python3"
  },
  "language_info": {
   "codemirror_mode": {
    "name": "ipython",
    "version": 3
   },
   "file_extension": ".py",
   "mimetype": "text/x-python",
   "name": "python",
   "nbconvert_exporter": "python",
   "pygments_lexer": "ipython3",
   "version": "3.9.12"
  }
 },
 "nbformat": 4,
 "nbformat_minor": 2
}
