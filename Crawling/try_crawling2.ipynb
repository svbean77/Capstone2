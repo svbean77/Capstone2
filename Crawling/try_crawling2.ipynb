{
 "cells": [
  {
   "cell_type": "markdown",
   "metadata": {},
   "source": [
    "## 필요 라이브러리 설치"
   ]
  },
  {
   "cell_type": "markdown",
   "metadata": {},
   "source": [
    "!pip install BeautifulSoup4"
   ]
  },
  {
   "cell_type": "markdown",
   "metadata": {},
   "source": [
    "!pip install pandas"
   ]
  },
  {
   "cell_type": "markdown",
   "metadata": {},
   "source": [
    "## 기본 html 파싱"
   ]
  },
  {
   "cell_type": "code",
   "execution_count": 1,
   "metadata": {},
   "outputs": [],
   "source": [
    "import requests\n",
    "from bs4 import BeautifulSoup\n",
    "import pandas as pd"
   ]
  },
  {
   "cell_type": "code",
   "execution_count": null,
   "metadata": {},
   "outputs": [],
   "source": [
    "res = requests.get('https://musclewiki.com/Directory')\n",
    "soup = BeautifulSoup(res.content, 'html.parser')\n",
    "\n",
    "lst = soup.find_all('tr')"
   ]
  },
  {
   "cell_type": "markdown",
   "metadata": {},
   "source": [
    "## 필요 데이터 추출"
   ]
  },
  {
   "cell_type": "code",
   "execution_count": null,
   "metadata": {},
   "outputs": [],
   "source": [
    "exercise = []\n",
    "equipment = []\n",
    "difficulty = []\n",
    "link = []\n",
    "\n",
    "for item in lst:\n",
    "    txt = [tmp for tmp in item.get_text().split('\\n') if tmp]\n",
    "    if 'Exercises' in item.get_text():\n",
    "        muscle.append(txt[0].strip()[:-10])\n",
    "        exercise.append([])\n",
    "        equipment.append([])\n",
    "        difficulty.append([])\n",
    "        link.append([])\n",
    "        \n",
    "    else:\n",
    "        exercise[-1].append(txt[0].strip())\n",
    "        equipment[-1].append(txt[-2].strip())\n",
    "        difficulty[-1].append(txt[-1].strip())\n",
    "        tmp = 'https://musclewiki.com' + item.find('a')['href']\n",
    "        link[-1].append(tmp)"
   ]
  },
  {
   "cell_type": "code",
   "execution_count": null,
   "metadata": {},
   "outputs": [],
   "source": []
  },
  {
   "cell_type": "code",
   "execution_count": 3,
   "metadata": {},
   "outputs": [],
   "source": [
    "muscle = []\n",
    "exercise = []\n",
    "equipment = []\n",
    "difficulty = []\n",
    "link = []\n",
    "\n",
    "for item in lst:\n",
    "    txt = [tmp for tmp in item.get_text().split('\\n') if tmp]\n",
    "    if 'Exercises' in item.get_text():\n",
    "        muscle.append(txt[0].strip()[:-10])\n",
    "        exercise.append([])\n",
    "        equipment.append([])\n",
    "        difficulty.append([])\n",
    "        link.append([])\n",
    "        \n",
    "    else:\n",
    "        exercise[-1].append(txt[0].strip())\n",
    "        equipment[-1].append(txt[-2].strip())\n",
    "        difficulty[-1].append(txt[-1].strip())\n",
    "        tmp = 'https://musclewiki.com' + item.find('a')['href']\n",
    "        link[-1].append(tmp)"
   ]
  },
  {
   "cell_type": "markdown",
   "metadata": {},
   "source": [
    "## 데이터프레임 생성"
   ]
  },
  {
   "cell_type": "code",
   "execution_count": 4,
   "metadata": {},
   "outputs": [],
   "source": [
    "df_lst = []\n",
    "\n",
    "for i in range(len(muscle)):\n",
    "    tmp_df = pd.DataFrame([exercise[i], equipment[i], difficulty[i], link[i]], \n",
    "                          index = ['exercise', 'equipment', 'difficulty', 'link']).transpose()\n",
    "    tmp_df['muscle'] = muscle[i]\n",
    "    df_lst.append(tmp_df)"
   ]
  },
  {
   "cell_type": "markdown",
   "metadata": {},
   "source": [
    "## 데이터프레임에 이미지 및 운동 방법 추가"
   ]
  },
  {
   "cell_type": "code",
   "execution_count": 5,
   "metadata": {},
   "outputs": [],
   "source": [
    "for df in df_lst:\n",
    "    for i in range(len(df)):\n",
    "        link = df.loc[i, 'link']\n",
    "        tmp_res = requests.get(link)\n",
    "        tmp_soup = BeautifulSoup(tmp_res.content, 'html.parser')\n",
    "        \n",
    "        if '404' in tmp_soup.get_text():\n",
    "            df.loc[i, 'img_link'] = 'no data'\n",
    "            df.loc[i, 'video_link'] = 'no data'\n",
    "            df.loc[i, 'step'] = 'no data'\n",
    "            \n",
    "        else:\n",
    "            image = tmp_soup.find(class_ = 'exercise-images-grid')\n",
    "            if image:\n",
    "                df.loc[i, 'img_link'] = 'https://www.musclewiki.com' + image.find('img')['src']\n",
    "                df.loc[i, 'video_link'] = image.find('a')['href']\n",
    "            else:\n",
    "                df.loc[i, 'img_link'] = 'no data'\n",
    "                df.loc[i, 'video_link'] = 'no data'\n",
    "            \n",
    "            step_parse = tmp_soup.find(class_ = 'steps-list')\n",
    "            step_lst = [item for item in step_parse.get_text().split('\\n') if item]\n",
    "            step = \"\"\n",
    "            for j in range(len(step_lst)):\n",
    "                step = step + str(j + 1) + '. ' + step_lst[j] + \"\\n\"\n",
    "            step = step.strip('\\n')\n",
    "            \n",
    "            if step:\n",
    "                df.loc[i, 'step'] = step\n",
    "            else:\n",
    "                df.loc[i, 'step'] = 'no data'"
   ]
  },
  {
   "cell_type": "markdown",
   "metadata": {},
   "source": [
    "## 난이도로 구분"
   ]
  },
  {
   "cell_type": "code",
   "execution_count": 6,
   "metadata": {},
   "outputs": [],
   "source": [
    "beginner = []\n",
    "master = []\n",
    "\n",
    "for df in df_lst:\n",
    "    beginner.append(df.loc[df['difficulty'] == 'Beginner'])\n",
    "    master.append(df.loc[df['difficulty'] != 'Beginner'])"
   ]
  },
  {
   "cell_type": "code",
   "execution_count": 7,
   "metadata": {},
   "outputs": [],
   "source": [
    "for i in range(len(df)):\n",
    "    b_filename = \"eng_Beginner_\" + muscle[i]\n",
    "    m_filename = \"eng_Master_\"+ muscle[i]\n",
    "    \n",
    "    b_df = beginner[i].loc[beginner[i]['difficulty'] == 'Beginner']\n",
    "    m_df = master[i].loc[master[i]['difficulty'] != 'Beginner']\n",
    "    \n",
    "    b_df.to_csv('data/' + b_filename + '.csv', index = False)\n",
    "    m_df.to_csv('data/' + m_filename + '.csv', index = False)"
   ]
  },
  {
   "cell_type": "markdown",
   "metadata": {},
   "source": [
    "## 데이터 한글로 변환\n",
    "- googletrans 라이브러리 사용"
   ]
  },
  {
   "cell_type": "markdown",
   "metadata": {},
   "source": [
    "!pip install googletrans==4.0.0-rc1"
   ]
  },
  {
   "cell_type": "code",
   "execution_count": 8,
   "metadata": {},
   "outputs": [],
   "source": [
    "import os\n",
    "import googletrans\n",
    "import time\n",
    "\n",
    "path = './data/'\n",
    "files = os.listdir(path)\n",
    "files = list(filter(lambda x: x[:3] == 'eng', files))\n",
    "translator = googletrans.Translator()"
   ]
  },
  {
   "cell_type": "code",
   "execution_count": 9,
   "metadata": {},
   "outputs": [],
   "source": [
    "for file in files:\n",
    "    df = pd.read_csv(path + file)\n",
    "    filename = file.replace('eng', 'kor')\n",
    "    \n",
    "    for i in range(len(df)):\n",
    "        step = df.loc[i, 'step']\n",
    "        time.sleep(0.5)\n",
    "        if step != 'no data':\n",
    "            trans = translator.translate(step, dest = 'ko', src = 'en')\n",
    "            df.loc[i, 'step'] = trans.text\n",
    "    df.to_csv(path+filename, encoding = 'utf-8-sig', index = False)"
   ]
  }
 ],
 "metadata": {
  "kernelspec": {
   "display_name": "Python 3 (ipykernel)",
   "language": "python",
   "name": "python3"
  },
  "language_info": {
   "codemirror_mode": {
    "name": "ipython",
    "version": 3
   },
   "file_extension": ".py",
   "mimetype": "text/x-python",
   "name": "python",
   "nbconvert_exporter": "python",
   "pygments_lexer": "ipython3",
   "version": "3.9.12"
  }
 },
 "nbformat": 4,
 "nbformat_minor": 2
}
